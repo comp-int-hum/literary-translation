{
 "cells": [
  {
   "cell_type": "code",
   "execution_count": 7,
   "metadata": {},
   "outputs": [
    {
     "name": "stdout",
     "output_type": "stream",
     "text": [
      "Collecting unidecode\n",
      "  Downloading Unidecode-1.3.8-py3-none-any.whl.metadata (13 kB)\n",
      "Downloading Unidecode-1.3.8-py3-none-any.whl (235 kB)\n",
      "\u001b[2K   \u001b[90m━━━━━━━━━━━━━━━━━━━━━━━━━━━━━━━━━━━━━━━━\u001b[0m \u001b[32m235.5/235.5 kB\u001b[0m \u001b[31m2.8 MB/s\u001b[0m eta \u001b[36m0:00:00\u001b[0ma \u001b[36m0:00:01\u001b[0m\n",
      "\u001b[?25h\u001b[33mDEPRECATION: pytorch-lightning 1.6.4 has a non-standard dependency specifier torch>=1.8.*. pip 24.1 will enforce this behaviour change. A possible replacement is to upgrade to a newer version of pytorch-lightning or contact the author to suggest that they release a version with a conforming dependency specifiers. Discussion can be found at https://github.com/pypa/pip/issues/12063\u001b[0m\u001b[33m\n",
      "\u001b[0mInstalling collected packages: unidecode\n",
      "Successfully installed unidecode-1.3.8\n"
     ]
    }
   ],
   "source": [
    "! pip install unidecode"
   ]
  },
  {
   "cell_type": "code",
   "execution_count": 8,
   "metadata": {},
   "outputs": [
    {
     "name": "stdout",
     "output_type": "stream",
     "text": [
      "καὶ ἐκεινοις εἶπεν· Ὑπαγετε καὶ\n",
      "kai ekeinois eipen; Upagete kai\n"
     ]
    }
   ],
   "source": [
    "import re\n",
    "\n",
    "import unicodedata as ud\n",
    "\n",
    "\n",
    "def deaccent(str):\n",
    "    d = {ord('\\N{COMBINING ACUTE ACCENT}'):None}\n",
    "    return ud.normalize('NFD',s).translate(d)\n",
    "\n",
    "s=\"Ο πάνω όροφος\"\n",
    "s = \"καὶ ἐκείνοις εἶπεν· Ὑπάγετε καὶ\"\n",
    "\n",
    "# Function to remove Ancient Greek accents\n",
    "def remove_greek_accents(text):\n",
    "    # Regex pattern to match combining diacritical marks\n",
    "    accents_pattern = re.compile(r'[\\u0300-\\u036F\\u1FBD-\\u1FFF]', re.UNICODE)\n",
    "    # Remove the accents\n",
    "    return accents_pattern.sub('', text)\n",
    "\n",
    "# Example usage\n",
    "ancient_greek_text = \"ἄνθρωπος\"\n",
    "clean_text = remove_greek_accents(ancient_greek_text)\n",
    "# print(clean_text)  # Output should be \"ανθρωπος\"\n",
    "print(deaccent(s))\n",
    "\n",
    "import unidecode\n",
    "accented_string = s\n",
    "unaccented_string = unidecode.unidecode(accented_string)\n",
    "print(unaccented_string)\n",
    "\n"
   ]
  },
  {
   "cell_type": "code",
   "execution_count": 10,
   "metadata": {},
   "outputs": [
    {
     "data": {
      "text/plain": [
       "'και εκεινοις ειπεν· Υπαγετε και'"
      ]
     },
     "execution_count": 10,
     "metadata": {},
     "output_type": "execute_result"
    }
   ],
   "source": [
    "def remove_accents(s):\n",
    "    return ''.join((c for c in unicodedata.normalize('NFD', s) if unicodedata.category(c) != 'Mn'))"
   ]
  },
  {
   "cell_type": "code",
   "execution_count": null,
   "metadata": {},
   "outputs": [],
   "source": []
  }
 ],
 "metadata": {
  "kernelspec": {
   "display_name": "base",
   "language": "python",
   "name": "python3"
  },
  "language_info": {
   "codemirror_mode": {
    "name": "ipython",
    "version": 3
   },
   "file_extension": ".py",
   "mimetype": "text/x-python",
   "name": "python",
   "nbconvert_exporter": "python",
   "pygments_lexer": "ipython3",
   "version": "3.8.18"
  }
 },
 "nbformat": 4,
 "nbformat_minor": 2
}
