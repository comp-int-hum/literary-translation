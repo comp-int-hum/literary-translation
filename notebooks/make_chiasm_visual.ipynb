{
 "cells": [
  {
   "cell_type": "code",
   "execution_count": 30,
   "metadata": {},
   "outputs": [
    {
     "name": "stdout",
     "output_type": "stream",
     "text": [
      "In the beginning God created the heaven and the earth.\n"
     ]
    }
   ],
   "source": [
    "import sys\n",
    "import re\n",
    "import numpy as np\n",
    "import matplotlib.pyplot as plt\n",
    "from matplotlib import cm\n",
    "import matplotlib as mpl\n",
    "\n",
    "import json\n",
    "import argparse\n",
    "import gzip\n",
    "import pandas as pd\n",
    "from sklearn.metrics.pairwise import cosine_similarity\n",
    "sys.path.append('../scripts')\n",
    "from utils import Bible, Location\n",
    "\n",
    "def get_color(value, cmap):\n",
    "    # return the color as a hue, saturation, value tuple\n",
    "    return cmap(value)\n",
    "\n",
    "# get_color(0.5, cm)\n",
    "\n",
    "ENG = Bible('../human_translations/old_English_human.jsonl')\n",
    "print(ENG[Location({\"book\": \"GEN\", \"chapter\": 1, \"verse\": 1})])\n",
    "\n",
    "\n",
    "    "
   ]
  },
  {
   "cell_type": "code",
   "execution_count": 4,
   "metadata": {},
   "outputs": [
    {
     "name": "stdout",
     "output_type": "stream",
     "text": [
      "   n  i         p  candidate_score                                      start  \\\n",
      "0  4  0  0.945055        -0.134080  {'book': 'GEN', 'chapter': 1, 'verse': 1}   \n",
      "1  4  1  0.796204        -0.078728  {'book': 'GEN', 'chapter': 1, 'verse': 1}   \n",
      "2  4  2  0.429570        -0.002652  {'book': 'GEN', 'chapter': 1, 'verse': 2}   \n",
      "3  4  3  0.039960         0.166980  {'book': 'GEN', 'chapter': 1, 'verse': 3}   \n",
      "4  4  4  0.784216        -0.075714  {'book': 'GEN', 'chapter': 1, 'verse': 4}   \n",
      "\n",
      "                                         end  \n",
      "0  {'book': 'GEN', 'chapter': 1, 'verse': 3}  \n",
      "1  {'book': 'GEN', 'chapter': 1, 'verse': 4}  \n",
      "2  {'book': 'GEN', 'chapter': 1, 'verse': 5}  \n",
      "3  {'book': 'GEN', 'chapter': 1, 'verse': 6}  \n",
      "4  {'book': 'GEN', 'chapter': 1, 'verse': 7}  \n"
     ]
    }
   ],
   "source": [
    "# HACK:\n",
    "# given a start Location and a length n, we want to retrieve the passage\n",
    "# try to increment verses, if we reach the end of the chapter, increment chapter\n",
    "# if we reach the end of the book, increment book\n",
    "def retrieve_passage(start, n):\n",
    "    # start is a Location object\n",
    "    # n is an integer\n",
    "    # returns a string\n",
    "    current = start\n",
    "    passage = [ENG[current]]\n",
    "    for i in range(n-1):\n",
    "        current = Location({\"book\": current['book'], \"chapter\": current['chapter'], \"verse\": current['verse'] + 1})\n",
    "        if current not in ENG:\n",
    "            current = Location({\"book\": current['book'], \"chapter\": current['chapter'] + 1, \"verse\": 1})\n",
    "        passage.append(ENG[current])\n",
    "    return passage\n",
    "\n",
    "\n",
    "# if __name__ == \"__main__\":\n",
    "#     parser = argparse.ArgumentParser()\n",
    "#     parser.add_argument(\"--score\", dest=\"score\", help=\"Work directory\")\n",
    "#     parser.add_argument(\"--embedding\", dest=\"embeddings\", help=\"Embeddings file\")\n",
    "#     parser.add_argument(\"--output\", dest=\"output\", help=\"Output file\")\n",
    "#     parser.add_argument(\"--thres\", dest=\"thres\", type=float, help=\"Threshold for significance\")\n",
    "\n",
    "#     args = parser.parse_args()\n",
    "\n",
    "score = '../chiasm_score_new_alg/work_old_Sinaiticus-Greek_original_Greek-chiasm.json.gz'\n",
    "\n",
    "\n",
    "\n",
    "with gzip.open(score, \"rb\") as ifd:\n",
    "    data = [json.loads(line) for line in ifd]\n",
    "\n",
    "scores = pd.DataFrame.from_records(data)\n",
    "# convert start and end columns to Location objects\n",
    "scores[\"start\"] = scores[\"start\"].apply(lambda x: Location(x))\n",
    "scores[\"end\"] = scores[\"end\"].apply(lambda x: Location(x))\n",
    "print(scores.head())"
   ]
  },
  {
   "cell_type": "code",
   "execution_count": 5,
   "metadata": {},
   "outputs": [
    {
     "name": "stdout",
     "output_type": "stream",
     "text": [
      "(23313, 23313)\n"
     ]
    }
   ],
   "source": [
    "embedding = \"../Greek-embedded.json.gz\"\n",
    "locations = []\n",
    "embeds = []\n",
    "with gzip.open(embedding, \"rb\") as ifd:\n",
    "    for line in ifd:\n",
    "        obj = json.loads(line)\n",
    "        locations.append(Location(obj['location']))\n",
    "        embeds.append(obj['embedding'])\n",
    "    locations = np.asarray(locations)\n",
    "    embeds = np.asarray(embeds)\n",
    "\n",
    "cos_sim = cosine_similarity(embeds,embeds)\n",
    "print(cos_sim.shape)\n"
   ]
  },
  {
   "cell_type": "code",
   "execution_count": 74,
   "metadata": {},
   "outputs": [
    {
     "name": "stdout",
     "output_type": "stream",
     "text": [
      "       n      i         p  candidate_score  \\\n",
      "11413  4  11413  0.000999         0.367638   \n",
      "\n",
      "                                             start  \\\n",
      "11413  {'book': '2CH', 'chapter': 10, 'verse': 11}   \n",
      "\n",
      "                                               end  \n",
      "11413  {'book': '2CH', 'chapter': 10, 'verse': 14}   11413    11413\n",
      "Name: i, dtype: int64\n"
     ]
    },
    {
     "name": "stderr",
     "output_type": "stream",
     "text": [
      "/Users/hope/miniconda3/lib/python3.7/site-packages/ipykernel_launcher.py:8: SettingWithCopyWarning: \n",
      "A value is trying to be set on a copy of a slice from a DataFrame.\n",
      "Try using .loc[row_indexer,col_indexer] = value instead\n",
      "\n",
      "See the caveats in the documentation: https://pandas.pydata.org/pandas-docs/stable/user_guide/indexing.html#returning-a-view-versus-a-copy\n",
      "  \n"
     ]
    }
   ],
   "source": [
    "# {'book': '1KI', 'chapter': 12, 'verse': 11}\n",
    "score = scores[(scores['start'] == {'book': '2CH', 'chapter': 10, 'verse': 11}) & (scores['n'] == 4)]\n",
    "# score = scores[(scores['start'] == {'book': '1KI', 'chapter': 12, 'verse': 11}) & (scores['n'] == 4)]\n",
    "# score = scores[(scores['start'] == {'book': 'NUM', 'chapter': 35, 'verse': 1}) & (scores['n'] == 9)]\n",
    "score_idx = score['i']\n",
    "print(score, score_idx)\n",
    "\n",
    "score['text'] = score.apply(lambda x: retrieve_passage(x['start'], x['n']), axis=1)\n"
   ]
  },
  {
   "cell_type": "code",
   "execution_count": 16,
   "metadata": {},
   "outputs": [
    {
     "data": {
      "text/plain": [
       "[['For whereas my father put a heavy yoke upon you, I will put more to your yoke: my father chastised you with whips, but I will chastise you with scorpions.',\n",
       "  'So Jeroboam and all the people came to Rehoboam on the third day, as the king bade, saying, Come again to me on the third day.',\n",
       "  'And the king answered them roughly; and king Rehoboam forsook the counsel of the old men,',\n",
       "  'And answered them after the advice of the young men, saying, My father made your yoke heavy, but I will add thereto: my father chastised you with whips, but I will chastise you with scorpions.']]"
      ]
     },
     "execution_count": 16,
     "metadata": {},
     "output_type": "execute_result"
    }
   ],
   "source": [
    "score['text'].tolist()[0]"
   ]
  },
  {
   "cell_type": "code",
   "execution_count": 22,
   "metadata": {},
   "outputs": [
    {
     "data": {
      "text/plain": [
       "11413"
      ]
     },
     "execution_count": 22,
     "metadata": {},
     "output_type": "execute_result"
    }
   ],
   "source": [
    "score['i'].values[0]"
   ]
  },
  {
   "cell_type": "code",
   "execution_count": 73,
   "metadata": {},
   "outputs": [
    {
     "data": {
      "text/plain": [
       "['And the LORD spake unto Moses in the plains of Moab by Jordan near Jericho, saying,',\n",
       " 'Command the children of Israel, that they give unto the Levites of the inheritance of their possession cities to dwell in; and ye shall give also unto the Levites suburbs for the cities round about them.',\n",
       " 'And the cities shall they have to dwell in; and the suburbs of them shall be for their cattle, and for their goods, and for all their beasts.',\n",
       " 'And the suburbs of the cities, which ye shall give unto the Levites, shall reach from the wall of the city and outward a thousand cubits round about.',\n",
       " 'And ye shall measure from without the city on the east side two thousand cubits, and on the south side two thousand cubits, and on the west side two thousand cubits, and on the north side two thousand cubits and the city shall be in the midst: this shall be to them the suburbs of the cities.',\n",
       " 'And among the cities which ye shall give unto the Levites there shall be six cities for refuge, which ye shall appoint for the manslayer, that he may flee thither: and to them ye shall add forty and two cities.',\n",
       " 'So all the cities which ye shall give to the Levites shall be forty and eight cities: them shall ye give with their suburbs.',\n",
       " 'And the cities which ye shall give shall be of the possession of the children of Israel: from them that have many ye shall give many; but from them that have few ye shall give few: every one shall give of his cities unto the Levites according to his inheritance which he inheriteth.',\n",
       " 'And the LORD spake unto Moses, saying,']"
      ]
     },
     "execution_count": 73,
     "metadata": {},
     "output_type": "execute_result"
    }
   ],
   "source": [
    "score['text'].values[0]"
   ]
  },
  {
   "cell_type": "code",
   "execution_count": 71,
   "metadata": {},
   "outputs": [
    {
     "name": "stdout",
     "output_type": "stream",
     "text": [
      "0 (0, 3)\n",
      "1 (1, 2)\n",
      "['1KI', '12', '11']\n",
      "1KI.12.11\n"
     ]
    },
    {
     "data": {
      "image/png": "[encoded data removed]",
      "text/plain": [
       "<Figure size 432x288 with 2 Axes>"
      ]
     },
     "metadata": {
      "needs_background": "light"
     },
     "output_type": "display_data"
    }
   ],
   "source": [
    "sentences = score['text'].values[0]\n",
    "start = score['i'].values[0]\n",
    "n = score['n'].values[0]\n",
    "# the similarity matrix is the subset of cos_sim at the indices of the sentences (i to i+n-1)\n",
    "similarity_matrix = cos_sim[start:start+n, start:start+n]\n",
    "pairs = []\n",
    "for i in range(len(sentences)//2):\n",
    "    pairs.append((i, len(sentences) - i - 1))\n",
    "if len(sentences) % 2:\n",
    "    pairs.append((len(sentences)//2, len(sentences)//2))\n",
    "\n",
    "cmap = plt.cm.get_cmap('Set2')\n",
    "# fig, ax = plt.figure()\n",
    "fig, ax = plt.subplots()\n",
    "fs = 9\n",
    "for i, pair in enumerate(pairs):\n",
    "    print(i, pair)\n",
    "    a = plt.text(i/10, -pair[0]/fs+1, f'{sentences[pair[0]]}',fontsize=fs)\n",
    "    b = plt.text(i/10, -pair[1]/fs+1, f'{sentences[pair[1]]}',fontsize=fs)\n",
    "    # make axes invisible\n",
    "    plt.axis('off')\n",
    "    # font family times new roman\n",
    "    a.set_bbox(dict(facecolor=get_color(similarity_matrix[pair[0],pair[1]], cmap), alpha=0.5, edgecolor=get_color(similarity_matrix[pair[0],pair[1]], cmap)))\n",
    "    b.set_bbox(dict(facecolor=get_color(similarity_matrix[pair[1],pair[0]], cmap), alpha=0.5, edgecolor=get_color(similarity_matrix[pair[1],pair[0]], cmap)))\n",
    "    # save the figure\n",
    "\n",
    "# when we save a Location to a string, it becomes a dict. We want the keys of the dict joined with '.'\n",
    "loc = [str(v) for _,v in score[\"start\"].items()]\n",
    "name = '.'.join(loc)\n",
    "# make a colorbar\n",
    "# plt.colorbar('viridis')\n",
    "fig.colorbar(mpl.cm.ScalarMappable(norm=mpl.colors.Normalize(0, 1), cmap='Set2'),\n",
    "             ax=ax, orientation='horizontal', label='Similarity', anchor=(0,8))\n",
    "# plt.show()\n",
    "loc = [str(v) for _,v in score[\"start\"].values[0].items()]\n",
    "print(loc)\n",
    "name = '.'.join(loc)\n",
    "print(name)\n",
    "# plt.savefig(f'{name}_{score[\"n\"].values[0]}.png', bbox_inches='tight')"
   ]
  },
  {
   "cell_type": "code",
   "execution_count": null,
   "metadata": {},
   "outputs": [],
   "source": [
    "# want to \n",
    "\n",
    "\n",
    "# now we want to find the top chiasms (meaning the lowest p-values)\n",
    "# group by i and keep the n with the smallest p-value\n",
    "scores = scores.groupby(\"i\").apply(lambda x: x.loc[x[\"p\"].idxmin()]).reset_index(drop=True)\n",
    "# filter by threshold\n",
    "scores = scores[scores[\"p\"] < args.thres]\n",
    "# sort by p-value\n",
    "scores = scores.sort_values(by=\"p\")\n",
    "# let's take the top 5 and use ENG to retrieve the passage\n",
    "scores = scores.head(5)\n",
    "scores['text'] = scores.apply(lambda x: retrieve_passage(x['start'], x['n']), axis=1)\n",
    "print(scores.iloc[0]['text'])\n",
    "# now we have them as sentences, scores['text'] is the equivalent of sentences below\n",
    "cm = plt.cm.get_cmap('viridis')\n",
    "for _, row in scores.iterrows():\n",
    "    sentences = row['text']\n",
    "    # the similarity matrix is the subset of cos_sim at the indices of the sentences (i to i+n-1)\n",
    "    similarity_matrix = cos_sim[row['i']:row['i']+row['n'], row['i']:row['i']+row['n']]\n",
    "    pairs = []\n",
    "    for i in range(len(sentences)//2):\n",
    "        pairs.append((i, len(sentences) - i - 1))\n",
    "    if len(sentences) % 2:\n",
    "        pairs.append((len(sentences)//2, len(sentences)//2))\n",
    "\n",
    "\n",
    "    plt.figure()\n",
    "\n",
    "    fs = 12\n",
    "    for i, pair in enumerate(pairs):\n",
    "        # print(i, pair)\n",
    "        a = plt.text(i/10, -pair[0]/fs+1, f'{sentences[pair[0]]}',fontsize=fs)\n",
    "        b = plt.text(i/10, -pair[1]/fs+1, f'{sentences[pair[1]]}',fontsize=fs)\n",
    "        # make axes invisible\n",
    "        plt.axis('off')\n",
    "        # font family times new roman\n",
    "        a.set_bbox(dict(facecolor=get_color(similarity_matrix[pair[0],pair[1]], cm), alpha=0.5, edgecolor=get_color(similarity_matrix[pair[0],pair[1]], cm)))\n",
    "        b.set_bbox(dict(facecolor=get_color(similarity_matrix[pair[1],pair[0]], cm), alpha=0.5, edgecolor=get_color(similarity_matrix[pair[1],pair[0]], cm)))\n",
    "        # save the figure\n",
    "\n",
    "    # when we save a Location to a string, it becomes a dict. We want the keys of the dict joined with '.'\n",
    "    loc = [str(v) for _,v in row[\"start\"].items()]\n",
    "    name = '.'.join(loc)\n",
    "    # make a colorbar\n",
    "    plt.colorbar('viridis')\n",
    "    plt.show()\n",
    "    # plt.savefig(f'{args.output}/{name}_{row[\"n\"]}.png', bbox_inches='tight')\n"
   ]
  }
 ],
 "metadata": {
  "kernelspec": {
   "display_name": "base",
   "language": "python",
   "name": "python3"
  },
  "language_info": {
   "codemirror_mode": {
    "name": "ipython",
    "version": 3
   },
   "file_extension": ".py",
   "mimetype": "text/x-python",
   "name": "python",
   "nbconvert_exporter": "python",
   "pygments_lexer": "ipython3",
   "version": "3.8.18"
  }
 },
 "nbformat": 4,
 "nbformat_minor": 2
}
