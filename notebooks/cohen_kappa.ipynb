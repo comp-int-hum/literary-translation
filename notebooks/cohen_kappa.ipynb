{
 "cells": [
  {
   "cell_type": "code",
   "execution_count": 1,
   "metadata": {},
   "outputs": [],
   "source": [
    "from sklearn.metrics import cohen_kappa_score"
   ]
  },
  {
   "cell_type": "code",
   "execution_count": 21,
   "metadata": {},
   "outputs": [],
   "source": [
    "import pandas as pd\n",
    "import pytextable as pytex\n",
    "import numpy as np"
   ]
  },
  {
   "cell_type": "code",
   "execution_count": 25,
   "metadata": {},
   "outputs": [
    {
     "name": "stdout",
     "output_type": "stream",
     "text": [
      "['old_Sinaiticus-Greek', 0.84, 0.46, 0.18]\n",
      "['new_Sinaiticus-Greek', 0.31, 0.4, 0.08]\n",
      "['old_WLC-Hebrew', 0.9, 0.71, 0.2]\n"
     ]
    }
   ],
   "source": [
    "# so we want a table of inter-annotator agreement score for each manuscript,\n",
    "# the human accuracy (as determined by both Hope and Hale agreeing that it's a chiasm)\n",
    "# the percentage of true chiasms in the BCE (y1==y2 & ['bce'] ==1), as marked by Hale\n",
    "\n",
    "table_data =[]\n",
    "for manuscript in ['old_Sinaiticus-Greek', 'new_Sinaiticus-Greek', 'old_WLC-Hebrew']:\n",
    "    df = pd.read_csv(f\"../annotated/Full_Annotated_top_scoring_{manuscript}_new-alg.csv\")\n",
    "    df = df.dropna()\n",
    "    # print(df.head())\n",
    "    y1 = df['Hope']\n",
    "    y2 = df['Hale']\n",
    "    cohen_kappa = np.round(cohen_kappa_score(y1, y2), 2)\n",
    "    # where 'Hope' and 'Hale' are both one, want sum\n",
    "    consensus = df[(df['Hope'] == 1) & (df['Hale']==1)]\n",
    "    system_accuracy = np.round(len(consensus)/len(df), 2)\n",
    "    # what percentage of true chiasms are NOT in 'bce' aka 'bce' == 0?\n",
    "    true_chiasms_not_in_bce = np.round(len(df[(df['Hope'] == 1) & (df['Hale']==1) & (df['BCE'] == 0) ])/len(df), 2)\n",
    "\n",
    "    # true_chiasms = sum((y1 == y2) & (df['BCE'] == 1)) / len(df)\n",
    "    table_data.append([manuscript, cohen_kappa, system_accuracy, true_chiasms_not_in_bce])\n",
    "    print([manuscript, cohen_kappa, system_accuracy, true_chiasms_not_in_bce])\n",
    "\n",
    "table_data= np.asarray(table_data)\n",
    "# table_data = table_data.T\n",
    "pytex.write(table_data, 'annotation.tex', header=['Manuscript', 'Cohen\\'s $\\kappa$', 'System Accuracy', 'New Chiasms'])\n",
    "    # this is good, it meand 20% of true chiasms aren't in BCE, so it's useful to have a system that can find them\n",
    "\n",
    "# drop rows where 'Hope' column is NaN\n"
   ]
  },
  {
   "cell_type": "code",
   "execution_count": null,
   "metadata": {},
   "outputs": [],
   "source": []
  }
 ],
 "metadata": {
  "kernelspec": {
   "display_name": "base",
   "language": "python",
   "name": "python3"
  },
  "language_info": {
   "codemirror_mode": {
    "name": "ipython",
    "version": 3
   },
   "file_extension": ".py",
   "mimetype": "text/x-python",
   "name": "python",
   "nbconvert_exporter": "python",
   "pygments_lexer": "ipython3",
   "version": "3.8.18"
  }
 },
 "nbformat": 4,
 "nbformat_minor": 2
}
