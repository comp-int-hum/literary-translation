{
 "cells": [
  {
   "cell_type": "code",
   "execution_count": null,
   "metadata": {},
   "outputs": [],
   "source": [
    "# here we want to test out functions for extracting features like word n-grams and phonetic char n-grams"
   ]
  },
  {
   "cell_type": "markdown",
   "metadata": {},
   "source": [
    "## Word N-Grams"
   ]
  },
  {
   "cell_type": "code",
   "execution_count": 28,
   "metadata": {},
   "outputs": [
    {
     "name": "stdout",
     "output_type": "stream",
     "text": [
      "  % Total    % Received % Xferd  Average Speed   Time    Time     Time  Current\n",
      "                                 Dload  Upload   Total   Spent    Left  Speed\n",
      "100  4329  100  4329    0     0  26755      0 --:--:-- --:--:-- --:--:-- 26888\n"
     ]
    }
   ],
   "source": [
    "# download stopwords list\n",
    "! curl -L https://raw.githubusercontent.com/gidim/HebrewStopWords/refs/heads/master/heb_stopwords.txt > heb_stopwords.txt"
   ]
  },
  {
   "cell_type": "code",
   "execution_count": 31,
   "metadata": {},
   "outputs": [],
   "source": [
    "from sklearn.feature_extraction.text import TfidfVectorizer, CountVectorizer\n",
    "import re\n",
    "\n",
    "with open('heb_stopwords.txt', 'rt') as f:\n",
    "    stops = f.readlines()\n",
    "    stops = [s.strip() for s in stops]\n",
    "\n",
    "\n",
    "def hebrew_word_tokenizer(text):\n",
    "    \"\"\"\n",
    "    Tokenizer function to split Hebrew text into words.\n",
    "    This will capture words and also consider special characters like apostrophes.\n",
    "    \n",
    "    :param text: A string of Hebrew text.\n",
    "    :return: A list of tokenized words.\n",
    "    \"\"\"\n",
    "    # Regular expression to match Hebrew words, including those with apostrophes (׳)\n",
    "    hebrew_word_pattern = r\"\\b[\\u0590-\\u05FF׳]+(?:-[\\u0590-\\u05FF׳]+)*\\b\"\n",
    "    \n",
    "    # Use re.findall to get all the words matching the pattern\n",
    "    return re.findall(hebrew_word_pattern, text)\n",
    "\n",
    "def create_tfidf_vectorizer_hebrew(texts, ngram_range=(1, 2), min_df=1, max_df=1.0):\n",
    "    \"\"\"\n",
    "    Creates a TF-IDF feature vector of word n-grams for Hebrew text.\n",
    "    \n",
    "    :param texts: List of Hebrew texts (sentences or verses).\n",
    "    :param ngram_range: The lower and upper boundary of the range of n-values for different n-grams (default is unigram and bigram).\n",
    "    :param min_df: Minimum document frequency for the words to be considered (default=1).\n",
    "    :param max_df: Maximum document frequency for the words to be considered (default=1.0, no max filter).\n",
    "    :return: A sparse matrix of TF-IDF features and the corresponding feature names (n-grams).\n",
    "    \"\"\"\n",
    "    \n",
    "    # Define the vectorizer, specifying Hebrew n-grams and appropriate tokenization\n",
    "    vectorizer = CountVectorizer(\n",
    "        ngram_range=ngram_range,     # N-gram range (unigram, bigram, etc.)\n",
    "        min_df=min_df,               # Minimum document frequency\n",
    "        max_df=max_df,               # Maximum document frequency\n",
    "        strip_accents=\"unicode\",\n",
    "        tokenizer=hebrew_word_tokenizer,\n",
    "        analyzer='word',             # Analyze at word-level\n",
    "        stop_words=stops              # No stop words by default (can add Hebrew stop words if necessary)\n",
    "    )\n",
    "    \n",
    "    # Fit the vectorizer on the Hebrew text and transform it into TF-IDF matrix\n",
    "    tfidf_matrix = vectorizer.fit_transform(texts)\n",
    "    \n",
    "    # Get the feature names (n-grams)\n",
    "    feature_names = vectorizer.get_feature_names_out()\n",
    "    \n",
    "    return tfidf_matrix, feature_names\n",
    "\n"
   ]
  },
  {
   "cell_type": "code",
   "execution_count": 32,
   "metadata": {},
   "outputs": [
    {
     "name": "stdout",
     "output_type": "stream",
     "text": [
      "Feature Names (n-grams):\n",
      " ['אלהים' 'אלהים השמים' 'ברא' 'ברא אלהים' 'בראשית' 'בראשית ברא' 'הארץ'\n",
      " 'השמים' 'השמים הארץ' 'ובהו' 'והארץ' 'והארץ תהו' 'תהו' 'תהו ובהו']\n"
     ]
    },
    {
     "name": "stderr",
     "output_type": "stream",
     "text": [
      "/Users/hope/miniconda3/envs/babylm/lib/python3.9/site-packages/sklearn/feature_extraction/text.py:521: UserWarning: The parameter 'token_pattern' will not be used since 'tokenizer' is not None'\n",
      "  warnings.warn(\n"
     ]
    }
   ],
   "source": [
    "# Example usage\n",
    "hebrew_texts = [\n",
    "    \"בְּרֵאשִׁית בָּרָא אֱלֹהִים אֵת הַשָּׁמַיִם וְאֵת הָאָרֶץ\",  # Example Hebrew text (Genesis 1:1)\n",
    "    \"וְהָאָרֶץ הָיְתָה תֹהוּ וָבֹהוּ\",  # Another verse\n",
    "]\n",
    "\n",
    "# Call the function with bigrams (ngram_range=(2, 2)) for Hebrew\n",
    "tfidf_matrix, feature_names = create_tfidf_vectorizer_hebrew(hebrew_texts, ngram_range=(1, 2))\n",
    "\n",
    "# Output the TF-IDF matrix and feature names\n",
    "#print(\"TF-IDF Matrix:\\n\", tfidf_matrix.toarray())\n",
    "print(\"Feature Names (n-grams):\\n\", feature_names)"
   ]
  },
  {
   "cell_type": "markdown",
   "metadata": {},
   "source": [
    "## Phoneme N-grams (failed)"
   ]
  },
  {
   "cell_type": "code",
   "execution_count": 19,
   "metadata": {},
   "outputs": [
    {
     "name": "stdout",
     "output_type": "stream",
     "text": [
      "בְּרֵאשִׁית בָּרָא אֱלֹהִים\n",
      "וְהָאָרֶץ הָיְתָה תֹהוּ וָבֹהוּ\n",
      "Feature Names (phonetic n-grams):\n",
      " [' (e' ' (en' ' (en)' ' hˈ' ' hˈe' ' hˈe ' ' hˈi' ' hˈiː' ' jˈ' ' jˈo'\n",
      " ' jˈod' ' lˈ' ' lˈa' ' lˈam' ' mˈ' ' mˈe' ' mˈem' ' vˈ' ' vˈa' ' vˈav'\n",
      " ' vˈe' ' vˈet' ' ʁˈ' ' ʁˈe' ' ʁˈeʃ' ' ʃ ' ' ʃ ˈ' ' ʃ ˈi' ' ˈa' ' ˈa '\n",
      " ' ˈa (' ' ˈa v' ' ˈa ˈ' ' ˈaj' ' ˈajt' ' ˈal' ' ˈale' ' ˈe' ' ˈe '\n",
      " ' ˈe ˈ' ' ˈi' ' ˈi ' ' ˈi (' ' ˈi j' ' θˈ' ' θˈa' ' θˈav' '(en' '(en)'\n",
      " '(en)h' '(he' '(he)' '(he) ' ') h' ') hˈ' ') hˈe' ') j' ') jˈ' ') jˈo'\n",
      " ') l' ') lˈ' ') lˈa' ') v' ') vˈ' ') vˈa' ') ʁ' ') ʁˈ' ') ʁˈe' ')hˈ'\n",
      " ')hˈi' ')hˈiː' 'a (' 'a (e' 'a (en' 'a v' 'a vˈ' 'a vˈe' 'a ˈ' 'a ˈa'\n",
      " 'a ˈal' 'ajt' 'ajta' 'ajtaʔ' 'ale' 'alef' 'alefʔ' 'ame' 'amed' 'amed '\n",
      " 'av ' 'av (' 'av (e' 'av v' 'av vˈ' 'av ˈ' 'av ˈa' 'aɡɛ' 'aɡɛʃ' 'aɡɛʃ('\n",
      " 'aʔ ' 'aʔ θ' 'aʔ θˈ' 'aˈo' 'aˈoʁ' 'aˈoʁe' 'bɹu' 'bɹuː' 'bɹuːd' 'bɹuːʃ'\n",
      " 'bɹuːˈ' 'd (' 'd (e' 'd (en' 'd m' 'd mˈ' 'd mˈe' 'd θ' 'd θˈ' 'd θˈa'\n",
      " 'dɒt' 'dɒt(' 'dɒt(h' 'dˈa' 'dˈaɡ' 'dˈaɡɛ' 'e v' 'e vˈ' 'e vˈa' 'e ˈ'\n",
      " 'e ˈa' 'e ˈal' 'e ˈi' 'e ˈi ' 'e) ' 'e) h' 'e) hˈ' 'e) j' 'e) jˈ' 'e) l'\n",
      " 'e) lˈ' 'e) v' 'e) vˈ' 'e) ʁ' 'e) ʁˈ' 'ed ' 'ed (' 'ed (e' 'efʔ' 'efʔ '\n",
      " 'efʔ (' 'efʔ ʃ' 'efʔ ˈ' 'en)' 'en)h' 'en)hˈ' 'et ' 'et (' 'et (e' 'et ˈ'\n",
      " 'et ˈa' 'ets' 'ets ' 'ets ˈ' 'eʃ ' 'eʃ ˈ' 'eʃ ˈa' 'eʃ ˈe' 'fʔ ' 'fʔ ('\n",
      " 'fʔ (e' 'fʔ ʃ' 'fʔ ʃ ' 'fʔ ˈ' 'fʔ ˈa' 'he)' 'he) ' 'he) h' 'he) j'\n",
      " 'he) l' 'he) v' 'he) ʁ' 'hˈe' 'hˈe ' 'hˈe v' 'hˈe ˈ' 'hˈi' 'hˈiː' 'hˈiːb'\n",
      " 'i (' 'i (e' 'i (en' 'i j' 'i jˈ' 'i jˈo' 'iːb' 'iːbɹ' 'iːbɹu' 'jta'\n",
      " 'jtaʔ' 'jtaʔ ' 'jˈo' 'jˈod' 'jˈod ' 'lef' 'lefʔ' 'lefʔ ' 'lˈa' 'lˈam'\n",
      " 'lˈame' 'med' 'med ' 'med (' 'mˈe' 'mˈem' 'n)h' 'n)hˈ' 'n)hˈi' 'ndɒ'\n",
      " 'ndɒt' 'ndɒt(' 'o(h' 'o(he' 'o(he)' 'od ' 'od m' 'od mˈ' 'od θ' 'od θˈ'\n",
      " 'oʁe' 'oʁet' 'oʁets' 's ˈ' 's ˈa' 's ˈaj' 't (' 't (e' 't (en' 't ˈ'\n",
      " 't ˈa' 't ˈa ' 't(h' 't(he' 't(he)' 'taʔ' 'taʔ ' 'taʔ θ' 'ts ' 'ts ˈ'\n",
      " 'ts ˈa' 'uːd' 'uːdˈ' 'uːdˈa' 'uːʃ' 'uːʃv' 'uːʃvˈ' 'uːʃˈ' 'uːʃˈɪ' 'uːˈ'\n",
      " 'uːˈo' 'uːˈo(' 'uːˈɛ' 'uːˈɛ(' 'v (' 'v (e' 'v (en' 'v v' 'v vˈ' 'v vˈe'\n",
      " 'v ˈ' 'v ˈa' 'v ˈa ' 'vaˈ' 'vaˈo' 'vaˈoʁ' 'vˈa' 'vˈav' 'vˈav ' 'vˈe'\n",
      " 'vˈet' 'vˈet ' 'vˈɑ' 'vˈɑː' 'vˈɑː ' 'ɑː ' 'ɑː h' 'ɑː hˈ' 'ɒt(' 'ɒt(h'\n",
      " 'ɒt(he' 'ɛ(h' 'ɛ(he' 'ɛ(he)' 'ɛʃ(' 'ɛʃ(h' 'ɛʃ(he' 'ɡɛʃ' 'ɡɛʃ(' 'ɡɛʃ(h'\n",
      " 'ɪnd' 'ɪndɒ' 'ɪndɒt' 'ɹuː' 'ɹuːd' 'ɹuːdˈ' 'ɹuːʃ' 'ɹuːʃv' 'ɹuːʃˈ' 'ɹuːˈ'\n",
      " 'ɹuːˈo' 'ɹuːˈɛ' 'ʁet' 'ʁets' 'ʁets ' 'ʁˈe' 'ʁˈeʃ' 'ʁˈeʃ ' 'ʃ ˈ' 'ʃ ˈa'\n",
      " 'ʃ ˈa ' 'ʃ ˈe' 'ʃ ˈe ' 'ʃ ˈi' 'ʃ ˈi ' 'ʃ(h' 'ʃ(he' 'ʃ(he)' 'ʃvˈ' 'ʃvˈɑ'\n",
      " 'ʃvˈɑː' 'ʃˈɪ' 'ʃˈɪn' 'ʃˈɪnd' 'ʔ (' 'ʔ (e' 'ʔ (en' 'ʔ ʃ' 'ʔ ʃ ' 'ʔ ʃ ˈ'\n",
      " 'ʔ ˈ' 'ʔ ˈa' 'ʔ ˈal' 'ʔ θ' 'ʔ θˈ' 'ʔ θˈa' 'ˈa ' 'ˈa (' 'ˈa (e' 'ˈa v'\n",
      " 'ˈa vˈ' 'ˈa ˈ' 'ˈa ˈa' 'ˈaj' 'ˈajt' 'ˈajta' 'ˈal' 'ˈale' 'ˈalef' 'ˈam'\n",
      " 'ˈame' 'ˈamed' 'ˈav' 'ˈav ' 'ˈav (' 'ˈav v' 'ˈav ˈ' 'ˈaɡ' 'ˈaɡɛ' 'ˈaɡɛʃ'\n",
      " 'ˈe ' 'ˈe v' 'ˈe vˈ' 'ˈe ˈ' 'ˈe ˈa' 'ˈe ˈi' 'ˈem' 'ˈet' 'ˈet ' 'ˈet ('\n",
      " 'ˈet ˈ' 'ˈeʃ' 'ˈeʃ ' 'ˈeʃ ˈ' 'ˈi ' 'ˈi (' 'ˈi (e' 'ˈi j' 'ˈi jˈ' 'ˈiː'\n",
      " 'ˈiːb' 'ˈiːbɹ' 'ˈo(' 'ˈo(h' 'ˈo(he' 'ˈod' 'ˈod ' 'ˈod m' 'ˈod θ' 'ˈoʁ'\n",
      " 'ˈoʁe' 'ˈoʁet' 'ˈɑː' 'ˈɑː ' 'ˈɑː h' 'ˈɛ(' 'ˈɛ(h' 'ˈɛ(he' 'ˈɪn' 'ˈɪnd'\n",
      " 'ˈɪndɒ' 'ː h' 'ː hˈ' 'ː hˈi' 'ːbɹ' 'ːbɹu' 'ːbɹuː' 'ːdˈ' 'ːdˈa' 'ːdˈaɡ'\n",
      " 'ːʃv' 'ːʃvˈ' 'ːʃvˈɑ' 'ːʃˈ' 'ːʃˈɪ' 'ːʃˈɪn' 'ːˈo' 'ːˈo(' 'ːˈo(h' 'ːˈɛ'\n",
      " 'ːˈɛ(' 'ːˈɛ(h' 'θˈa' 'θˈav' 'θˈav ']\n"
     ]
    }
   ],
   "source": [
    "import subprocess\n",
    "import re\n",
    "from sklearn.feature_extraction.text import CountVectorizer\n",
    "\n",
    "def remove_nikkud(text, keep_end=False):\n",
    "    # Define the regex pattern\n",
    "    if keep_end:\n",
    "        return re.sub(r'[\\u0591-\\u05AF\\u05B0-\\u05BD\\u05BF\\u05C1-\\u05C2\\u05C4-\\u05C7]', '', text)\n",
    "    return re.sub(r'[\\u0591-\\u05C7]', '', text)\n",
    "\n",
    "def get_phonetic_transcription(text):\n",
    "    \"\"\"\n",
    "    Uses espeak to get the phonetic transcription of the Hebrew text.\n",
    "    \n",
    "    :param text: A string of Hebrew text.\n",
    "    :return: Phonetic transcription as a string.\n",
    "    \"\"\"\n",
    "    #text = remove_nikkud(text)\n",
    "    # Use subprocess to call espeak and get phonetic transcription\n",
    "    result = subprocess.run(['espeak-ng', '-v', 'he', '--ipa', text], capture_output=True, text=True)\n",
    "    \n",
    "    # The output from espeak\n",
    "    phonetic_transcription = result.stdout.strip()\n",
    "    print(text)\n",
    "    return phonetic_transcription\n",
    "    # Remove non-IPA characters and clean up the transcription\n",
    "    #cleaned_transcription = re.sub(r'[^a-zA-Zˈˌ]+', ' ', phonetic_transcription)\n",
    "    \n",
    "    #return cleaned_transcription\n",
    "\n",
    "def create_phonetic_ngrams(texts, ngram_range=(1, 2)):\n",
    "    \"\"\"\n",
    "    Creates phonetic n-gram features from a list of Hebrew texts.\n",
    "    \n",
    "    :param texts: List of Hebrew texts (sentences or verses).\n",
    "    :param ngram_range: The lower and upper boundary of the range of n-values for different n-grams (default is unigram and bigram).\n",
    "    :return: A sparse matrix of phonetic n-grams and the corresponding feature names.\n",
    "    \"\"\"\n",
    "    \n",
    "    # List to hold phonetic transcriptions\n",
    "    phonetic_texts = []\n",
    "    \n",
    "    # Loop through the Hebrew texts and get phonetic transcriptions\n",
    "    for text in texts:\n",
    "        phonetic_transcription = get_phonetic_transcription(text)\n",
    "        phonetic_texts.append(phonetic_transcription)\n",
    "    \n",
    "    # Use CountVectorizer to extract phonetic n-grams\n",
    "    vectorizer = CountVectorizer(\n",
    "        ngram_range=ngram_range,  # N-gram range (unigram, bigram, etc.)\n",
    "        analyzer='char',          # Analyze at the character level (for phonetic symbols)\n",
    "        min_df=1                  # Minimum document frequency\n",
    "    )\n",
    "    \n",
    "    # Fit the vectorizer on the phonetic transcriptions\n",
    "    phonetic_ngrams = vectorizer.fit_transform(phonetic_texts)\n",
    "    \n",
    "    # Get the feature names (phonetic n-grams)\n",
    "    feature_names = vectorizer.get_feature_names_out()\n",
    "    \n",
    "    return phonetic_ngrams, feature_names\n",
    "\n",
    "# Example usage\n",
    "hebrew_texts = [\n",
    "    \"בְּרֵאשִׁית בָּרָא אֱלֹהִים\",\n",
    "    \"וְהָאָרֶץ הָיְתָה תֹהוּ וָבֹהוּ\"\n",
    "]\n",
    "\n",
    "# Call the function to create phonetic bigrams (ngram_range=(1, 2)) for Hebrew\n",
    "phonetic_ngrams, feature_names = create_phonetic_ngrams(hebrew_texts, ngram_range=(3, 5))\n",
    "\n",
    "# Output the phonetic n-gram matrix and feature names\n",
    "#print(\"Phonetic N-grams Matrix:\\n\", phonetic_ngrams.toarray())\n",
    "print(\"Feature Names (phonetic n-grams):\\n\", feature_names)\n"
   ]
  },
  {
   "cell_type": "code",
   "execution_count": 25,
   "metadata": {},
   "outputs": [
    {
     "name": "stdout",
     "output_type": "stream",
     "text": [
      "בְּרֵאשִׁית בָּרָא אֱלֹהִים\n"
     ]
    },
    {
     "data": {
      "text/plain": [
       "'vˈet (en)hˈiːbɹuːʃvˈɑː hˈiːbɹuːdˈaɡɛʃ(he) ʁˈeʃ ˈe ˈalefʔ ʃ ˈi (en)hˈiːbɹuːʃˈɪndɒt(he) jˈod θˈav vˈet ˈa (en)hˈiːbɹuːdˈaɡɛʃ(he) ʁˈeʃ ˈa ˈalefʔ ˈalefʔ (en)hˈiːbɹuːˈɛ(he) lˈamed (en)hˈiːbɹuːˈo(he) hˈe ˈi jˈod mˈem'"
      ]
     },
     "execution_count": 25,
     "metadata": {},
     "output_type": "execute_result"
    }
   ],
   "source": [
    "get_phonetic_transcription(hebrew_texts[0])"
   ]
  },
  {
   "cell_type": "code",
   "execution_count": 27,
   "metadata": {},
   "outputs": [
    {
     "data": {
      "text/plain": [
       "CompletedProcess(args=['espeak-ng', '-v', 'he', '--ipa', 'ב'], returncode=0, stdout='vˈet\\n', stderr='')"
      ]
     },
     "execution_count": 27,
     "metadata": {},
     "output_type": "execute_result"
    }
   ],
   "source": [
    "subprocess.run(['espeak-ng', '-v', 'he', '--ipa', remove_nikkud('בְּ')], capture_output=True, text=True)"
   ]
  },
  {
   "cell_type": "code",
   "execution_count": null,
   "metadata": {},
   "outputs": [],
   "source": []
  },
  {
   "cell_type": "markdown",
   "metadata": {},
   "source": [
    "## Neural Embeddings (already done)"
   ]
  },
  {
   "cell_type": "code",
   "execution_count": 50,
   "metadata": {},
   "outputs": [
    {
     "name": "stderr",
     "output_type": "stream",
     "text": [
      "/Users/hope/miniconda3/envs/babylm/lib/python3.9/site-packages/sentence_transformers/cross_encoder/CrossEncoder.py:11: TqdmWarning: IProgress not found. Please update jupyter and ipywidgets. See https://ipywidgets.readthedocs.io/en/stable/user_install.html\n",
      "  from tqdm.autonotebook import tqdm, trange\n"
     ]
    }
   ],
   "source": [
    "from sentence_transformers import SentenceTransformer\n",
    "model = SentenceTransformer('intfloat/multilingual-e5-small')\n",
    "#encs = model.encode(df['line'].tolist(), show_progress_bar=True)"
   ]
  },
  {
   "cell_type": "markdown",
   "metadata": {},
   "source": [
    "# Feature Extraction"
   ]
  },
  {
   "cell_type": "code",
   "execution_count": 451,
   "metadata": {},
   "outputs": [],
   "source": [
    "import numpy as np\n",
    "from sklearn.metrics.pairwise import cosine_similarity\n",
    "from sklearn.pipeline import FeatureUnion\n",
    "from sklearn.base import BaseEstimator, TransformerMixin\n",
    "from sklearn.feature_extraction.text import CountVectorizer, TfidfVectorizer\n",
    "from sklearn.preprocessing import normalize\n",
    "\n",
    "# Custom transformer for neural embeddings\n",
    "class NeuralEmbeddingTransformer(BaseEstimator, TransformerMixin):\n",
    "    def __init__(self, model):\n",
    "        self.model = model\n",
    "\n",
    "    def fit(self, X, y=None):\n",
    "        return self\n",
    "        \n",
    "\n",
    "    def transform(self, X):\n",
    "        self.embeddings = model.encode(X, show_progress_bar=True)\n",
    "        return self.embeddings"
   ]
  },
  {
   "cell_type": "code",
   "execution_count": 671,
   "metadata": {},
   "outputs": [],
   "source": [
    "from sklearn.feature_extraction.text import CountVectorizer, TfidfVectorizer\n",
    "from sklearn.decomposition import TruncatedSVD\n",
    "from sklearn.preprocessing import StandardScaler\n",
    "from sklearn.pipeline import Pipeline, FeatureUnion\n",
    "from sklearn.preprocessing import normalize\n",
    "\n",
    "def get_feature_matrix(texts: list, model, features: list):\n",
    "    ngrams = TfidfVectorizer(\n",
    "        ngram_range=(1,3),     # N-gram range (unigram, bigram, etc.)\n",
    "        min_df=1,               # Minimum document frequency\n",
    "        max_df=1.0,               # Maximum document frequency\n",
    "        strip_accents=\"unicode\",\n",
    "        tokenizer=hebrew_word_tokenizer,\n",
    "        analyzer='word',             # Analyze at word-level\n",
    "        stop_words=stops,              # No stop words by default (can add Hebrew stop words if necessary)\n",
    "        max_features= 2000\n",
    "    )\n",
    "\n",
    "     #Step 3: Dimensionality reduction with TruncatedSVD for TF-IDF (Sparse)\n",
    "    svd = TruncatedSVD(n_components=10)\n",
    " \n",
    "    # Create a FeatureUnion to combine the n-gram features and neural embeddings\n",
    "    feats = []\n",
    "    if 'ngram' in features:\n",
    "        feats.append(('ngram', Pipeline([\n",
    "            ('tfidf', ngrams),\n",
    "            # ('svd', svd)\n",
    "        ])))\n",
    "    if 'neural' in features:\n",
    "        feats.append(('neural_embeddings', Pipeline([\n",
    "        ('embed', NeuralEmbeddingTransformer(model=model)),  # Custom embedding transformer\n",
    "        ('scaler', StandardScaler())  # Step 6: Scale neural embeddings\n",
    "        ])))\n",
    "\n",
    "    \n",
    "    assert len(feats) > 0, \"There must be at least one feature set\"\n",
    "    \n",
    "    combined_features = FeatureUnion(feats)\n",
    "\n",
    "    # Transform to get the combined feature matrix\n",
    "    combined_matrix = combined_features.fit_transform(texts)\n",
    "    print(combined_features.get_feature_names_out().todense())\n",
    "\n",
    "    # Normalize the combined features\n",
    "    combined_matrix = normalize(combined_matrix)\n",
    "    return combined_matrix"
   ]
  },
  {
   "cell_type": "code",
   "execution_count": 663,
   "metadata": {},
   "outputs": [],
   "source": [
    "hebrew_texts = [\n",
    "    \"בְּרֵאשִׁית בָּרָא אֱלֹהִים אֵת הַשָּׁמַיִם וְאֵת הָאָרֶץ\",  # Example Hebrew text (Genesis 1:1)\n",
    "    \"וְהָאָרֶץ הָיְתָה תֹהוּ וָבֹהוּ\",  # Another verse\n",
    "]"
   ]
  },
  {
   "cell_type": "code",
   "execution_count": 670,
   "metadata": {},
   "outputs": [
    {
     "name": "stdout",
     "output_type": "stream",
     "text": [
      "['ngram__אלהים' 'ngram__אלהים השמים' 'ngram__אלהים השמים הארץ'\n",
      " 'ngram__ברא' 'ngram__ברא אלהים' 'ngram__ברא אלהים השמים' 'ngram__בראשית'\n",
      " 'ngram__בראשית ברא' 'ngram__בראשית ברא אלהים' 'ngram__הארץ'\n",
      " 'ngram__השמים' 'ngram__השמים הארץ' 'ngram__ובהו' 'ngram__והארץ'\n",
      " 'ngram__והארץ תהו' 'ngram__והארץ תהו ובהו' 'ngram__תהו' 'ngram__תהו ובהו']\n"
     ]
    },
    {
     "name": "stderr",
     "output_type": "stream",
     "text": [
      "/Users/hope/miniconda3/envs/babylm/lib/python3.9/site-packages/sklearn/feature_extraction/text.py:521: UserWarning: The parameter 'token_pattern' will not be used since 'tokenizer' is not None'\n",
      "  warnings.warn(\n"
     ]
    },
    {
     "data": {
      "text/plain": [
       "<2x18 sparse matrix of type '<class 'numpy.float64'>'\n",
       "\twith 18 stored elements in Compressed Sparse Row format>"
      ]
     },
     "execution_count": 670,
     "metadata": {},
     "output_type": "execute_result"
    }
   ],
   "source": [
    "get_feature_matrix(hebrew_texts, None, features=['ngram'])"
   ]
  },
  {
   "cell_type": "code",
   "execution_count": 70,
   "metadata": {},
   "outputs": [
    {
     "name": "stderr",
     "output_type": "stream",
     "text": [
      "Batches: 100%|██████████| 1/1 [00:00<00:00,  7.70it/s]\n"
     ]
    }
   ],
   "source": [
    "\n",
    "clean_texts = [remove_nikkud(t) for t in hebrew_texts]\n",
    "neural_feats = NeuralEmbeddingTransformer(model)\n",
    "embs = neural_feats.fit(clean_texts)\n",
    "embs2 = neural_feats.fit_transform(clean_texts)"
   ]
  },
  {
   "cell_type": "code",
   "execution_count": 672,
   "metadata": {},
   "outputs": [
    {
     "ename": "TypeError",
     "evalue": "get_feature_matrix() got an unexpected keyword argument 'ngram'",
     "output_type": "error",
     "traceback": [
      "\u001b[0;31m---------------------------------------------------------------------------\u001b[0m",
      "\u001b[0;31mTypeError\u001b[0m                                 Traceback (most recent call last)",
      "Cell \u001b[0;32mIn[672], line 1\u001b[0m\n\u001b[0;32m----> 1\u001b[0m \u001b[43mget_feature_matrix\u001b[49m\u001b[43m(\u001b[49m\u001b[43mclean_texts\u001b[49m\u001b[43m,\u001b[49m\u001b[43m \u001b[49m\u001b[43mmodel\u001b[49m\u001b[43m,\u001b[49m\u001b[43m \u001b[49m\u001b[43mngram\u001b[49m\u001b[38;5;241;43m=\u001b[39;49m\u001b[38;5;28;43;01mTrue\u001b[39;49;00m\u001b[43m)\u001b[49m\u001b[38;5;241m.\u001b[39mshape\n",
      "\u001b[0;31mTypeError\u001b[0m: get_feature_matrix() got an unexpected keyword argument 'ngram'"
     ]
    }
   ],
   "source": [
    "get_feature_matrix(clean_texts, model, ngram=True).shape"
   ]
  },
  {
   "cell_type": "code",
   "execution_count": null,
   "metadata": {},
   "outputs": [],
   "source": []
  },
  {
   "cell_type": "code",
   "execution_count": null,
   "metadata": {},
   "outputs": [],
   "source": [
    "# if I change to do the Bible all at once, what changes?\n",
    "# I need to group them still, but don't allow groups to go over book lines. I think chapter lines are okay\n",
    "# Then I think that's it. "
   ]
  },
  {
   "cell_type": "code",
   "execution_count": null,
   "metadata": {},
   "outputs": [],
   "source": [
    "# STEPS:\n",
    "# 0. choose a book (let's go Genesis for now)\n",
    "# 1. group texts given a level (includes cleaning)\n",
    "# 2. extract features\n",
    "# 3. compute observed chiasm score\n",
    "# 4. shuffle verses and compute null score\n",
    "# 5. significance testing."
   ]
  },
  {
   "cell_type": "code",
   "execution_count": 1,
   "metadata": {},
   "outputs": [],
   "source": [
    "# -1. load data\n",
    "import json\n",
    "with open('../data/STEP/OT_aligned_sep.json', 'rt', encoding='utf-8') as ifd:\n",
    "    data = []\n",
    "    for line in ifd:\n",
    "        data.append(json.loads(line))\n",
    "\n",
    "# 0. separate into books\n",
    "books = {}\n",
    "for line in data:\n",
    "    book = line['heb_ref'].split('.')[0]\n",
    "    if book not in books:\n",
    "        books[book] = [line]\n",
    "    else:\n",
    "        books[book].append(line)\n"
   ]
  },
  {
   "cell_type": "code",
   "execution_count": 494,
   "metadata": {},
   "outputs": [],
   "source": [
    "# # saving books individually as jsonl\n",
    "# for name, book in books.items():\n",
    "#     with open(f\"data/{name}.jsonl\", \"wt\") as f:\n",
    "#         for line in book:\n",
    "#             f.write(json.dumps(line, ensure_ascii=False) + \"\\n\")"
   ]
  },
  {
   "cell_type": "code",
   "execution_count": 30,
   "metadata": {},
   "outputs": [],
   "source": [
    "class dotdict(dict):\n",
    "    \"\"\"dot.notation access to dictionary attributes\"\"\"\n",
    "    __getattr__ = dict.get\n",
    "    __setattr__ = dict.__setitem__\n",
    "    __delattr__ = dict.__delitem__\n",
    "\n",
    "class Location(dotdict):\n",
    "    def __init__(self, location_str):\n",
    "        parts = location_str.split('.')\n",
    "        self['book'] = parts[0]\n",
    "        self['chapter'] = int(parts[1])\n",
    "        self['verse'] = int(parts[2])\n",
    "\n",
    "    def __str__(self):\n",
    "        return f\"{self.book}.{self.chaper}.{self.verse}\"\n",
    "    def __hash__(self):\n",
    "        return hash(repr(self))\n"
   ]
  },
  {
   "cell_type": "code",
   "execution_count": 16,
   "metadata": {},
   "outputs": [],
   "source": [
    "import pandas as pd\n",
    "df = pd.DataFrame.from_records(books['Gen'])\n",
    "texts = df['line'].tolist()\n",
    "translations = df['translation'].tolist()\n",
    "locs = [Location(x) for x in df['heb_ref'].tolist()]\n",
    "data = list(zip(locs, texts))"
   ]
  },
  {
   "cell_type": "code",
   "execution_count": 27,
   "metadata": {},
   "outputs": [
    {
     "data": {
      "text/plain": [
       "{'book': 'Gen', 'chapter': 1, 'verse': 1}"
      ]
     },
     "execution_count": 27,
     "metadata": {},
     "output_type": "execute_result"
    }
   ],
   "source": [
    "Location('Gen.1.1')"
   ]
  },
  {
   "cell_type": "code",
   "execution_count": 635,
   "metadata": {},
   "outputs": [
    {
     "data": {
      "text/plain": [
       "(['ב ראשית ברא אלהים את ה שמים ו את ה ארץ ׃ו ה ארץ היתה תהו ו בהו ו חשך על ־ פני תהום ו רוח אלהים מרחפת על ־ פני ה מים ׃ו יאמר אלהים יהי אור ו יהי ־ אור ׃ו ירא אלהים את ־ ה אור כי ־ טוב ו יבדל אלהים בין ה אור ו בין ה חשך ׃ו יקרא אלהים ׀ ל אור יום ו ל חשך קרא לילה ו יהי ־ ערב ו יהי ־ בקר יום אחד ׃',\n",
       "  'ו יאמר אלהים יהי רקיע ב תוך ה מים ו יהי מבדיל בין מים ל מים ׃ו יעש אלהים את ־ ה רקיע ו יבדל בין ה מים אשר מ תחת ל רקיע ו בין ה מים אשר מ על ל רקיע ו יהי ־ כן ׃ו יקרא אלהים ל רקיע שמים ו יהי ־ ערב ו יהי ־ בקר יום שני ׃',\n",
       "  'ו יאמר אלהים יקוו ה מים מ תחת ה שמים אל ־ מקום אחד ו תראה ה יבשה ו יהי ־ כן ׃ו יקרא אלהים ׀ ל יבשה ארץ ו ל מקוה ה מים קרא ימים ו ירא אלהים כי ־ טוב ׃ו יאמר אלהים תדשא ה ארץ דשא עשב מזריע זרע עץ פרי עשה פרי ל מינ ו אשר זרע ו ־ ב ו על ־ ה ארץ ו יהי ־ כן ׃ו תוצא ה ארץ דשא עשב מזריע זרע ל מינ הו ו עץ עשה ־ פרי אשר זרע ו ־ ב ו ל מינ הו ו ירא אלהים כי ־ טוב ׃ו יהי ־ ערב ו יהי ־ בקר יום שלישי ׃',\n",
       "  'ו יאמר אלהים יהי מארת ב רקיע ה שמים ל הבדיל בין ה יום ו בין ה לילה ו היו ל אתת ו ל מועדים ו ל ימים ו שנים ׃ו היו ל מאורת ב רקיע ה שמים ל האיר על ־ ה ארץ ו יהי ־ כן ׃ו יעש אלהים את ־ שני ה מארת ה גדלים את ־ ה מאור ה גדל ל ממשלת ה יום ו את ־ ה מאור ה קטן ל ממשלת ה לילה ו את ה כוכבים ׃ו יתן את ם אלהים ב רקיע ה שמים ל האיר על ־ ה ארץ ׃ו ל משל ב יום ו ב לילה ו ל הבדיל בין ה אור ו בין ה חשך ו ירא אלהים כי ־ טוב ׃ו יהי ־ ערב ו יהי ־ בקר יום רביעי ׃'],\n",
       " 41)"
      ]
     },
     "execution_count": 635,
     "metadata": {},
     "output_type": "execute_result"
    }
   ],
   "source": [
    "# 1. group verses, I want paragraphs here, so pesucha\n",
    "# let's think about this. I have a list of line-level texts, and I have their index. I want to create a list of lists of which verses are in that list\n",
    "groups, indices = group_verses(data, group_type='pesucha')\n",
    "groups[:4], len(groups)"
   ]
  },
  {
   "cell_type": "code",
   "execution_count": 636,
   "metadata": {},
   "outputs": [
    {
     "data": {
      "text/plain": [
       "[[0, 1, 2, 3, 4], [5, 6, 7], [8, 9, 10, 11, 12], [13, 14, 15, 16, 17, 18]]"
      ]
     },
     "execution_count": 636,
     "metadata": {},
     "output_type": "execute_result"
    }
   ],
   "source": [
    "indices[:4]"
   ]
  },
  {
   "cell_type": "code",
   "execution_count": 637,
   "metadata": {},
   "outputs": [
    {
     "name": "stderr",
     "output_type": "stream",
     "text": [
      "/Users/hope/miniconda3/envs/babylm/lib/python3.9/site-packages/sklearn/feature_extraction/text.py:521: UserWarning: The parameter 'token_pattern' will not be used since 'tokenizer' is not None'\n",
      "  warnings.warn(\n"
     ]
    }
   ],
   "source": [
    "# 2. extract features \n",
    "feats = get_feature_matrix(groups, model,['ngram'])"
   ]
  },
  {
   "cell_type": "code",
   "execution_count": 638,
   "metadata": {},
   "outputs": [
    {
     "data": {
      "text/plain": [
       "(41, 41)"
      ]
     },
     "execution_count": 638,
     "metadata": {},
     "output_type": "execute_result"
    }
   ],
   "source": [
    "feats.shape"
   ]
  },
  {
   "cell_type": "code",
   "execution_count": 639,
   "metadata": {},
   "outputs": [],
   "source": [
    "# 3. compute observed score\n",
    "N = 4\n",
    "cos_sim = cosine_similarity(feats, feats)\n",
    "os = []\n",
    "for i in range(len(groups)-N):\n",
    "    os.append(get_chiasm_score(cos_sim, i, n=N))\n"
   ]
  },
  {
   "cell_type": "code",
   "execution_count": 640,
   "metadata": {},
   "outputs": [
    {
     "data": {
      "text/plain": [
       "(37, 37)"
      ]
     },
     "execution_count": 640,
     "metadata": {},
     "output_type": "execute_result"
    }
   ],
   "source": [
    "len(os), len(groups)-N"
   ]
  },
  {
   "cell_type": "markdown",
   "metadata": {},
   "source": [
    "I'm wondering if this method is good but I need better randomized samples? What I've tried is taking 1000 random samples, not by shuffling, but by establishing a random baseline. "
   ]
  },
  {
   "cell_type": "code",
   "execution_count": 460,
   "metadata": {},
   "outputs": [],
   "source": [
    "import sklearn\n",
    "# shuffle the feature matrix\n",
    "rand_feats = sklearn.utils.shuffle(feats)"
   ]
  },
  {
   "cell_type": "code",
   "execution_count": 484,
   "metadata": {},
   "outputs": [],
   "source": [
    "# 4. compute null score\n",
    "import random\n",
    "ns = []\n",
    "n_cos_sim = cosine_similarity(feats, feats)\n",
    "num_trials = 1_000\n",
    "for _ in range(num_trials):\n",
    "    ns.append(get_chiasm_score(n_cos_sim, random.choice(range(len(groups)-N)), n=N))\n",
    "ns = np.array(ns)"
   ]
  },
  {
   "cell_type": "code",
   "execution_count": 485,
   "metadata": {},
   "outputs": [
    {
     "data": {
      "text/plain": [
       "(1000,)"
      ]
     },
     "execution_count": 485,
     "metadata": {},
     "output_type": "execute_result"
    }
   ],
   "source": [
    "ns.shape"
   ]
  },
  {
   "cell_type": "code",
   "execution_count": 641,
   "metadata": {},
   "outputs": [
    {
     "data": {
      "text/plain": [
       "<Axes: >"
      ]
     },
     "execution_count": 641,
     "metadata": {},
     "output_type": "execute_result"
    },
    {
     "data": {
      "image/png": "[encoded data removed]",
      "text/plain": [
       "<Figure size 640x480 with 1 Axes>"
      ]
     },
     "metadata": {},
     "output_type": "display_data"
    }
   ],
   "source": [
    "sns.scatterplot({'os': os,}) #'CI': [upper]*len(os)})"
   ]
  },
  {
   "cell_type": "code",
   "execution_count": 621,
   "metadata": {},
   "outputs": [
    {
     "data": {
      "text/plain": [
       "(0.07082551594746717, 0.09568480300187618)"
      ]
     },
     "execution_count": 621,
     "metadata": {},
     "output_type": "execute_result"
    }
   ],
   "source": [
    "def bootstrap_confidence_intervals(data, n_samples=10000, ci_level=0.95):\n",
    "    n = len(data)\n",
    "    bootstrap_means = np.empty(n_samples)\n",
    "\n",
    "    for i in range(n_samples):\n",
    "        # Sample with replacement\n",
    "        bootstrap_sample = np.random.choice(data, size=n, replace=True)\n",
    "        # Calculate the statistic (e.g., mean)\n",
    "        bootstrap_means[i] = np.mean(bootstrap_sample)\n",
    "\n",
    "    # Calculate confidence intervals\n",
    "    lower_bound = np.percentile(bootstrap_means, (1 - ci_level) / 2 * 100)\n",
    "    upper_bound = np.percentile(bootstrap_means, (1 + ci_level) / 2 * 100)\n",
    "\n",
    "    return lower_bound, upper_bound\n",
    "\n",
    "lower, upper = bootstrap_confidence_intervals(os)\n",
    "lower, upper"
   ]
  },
  {
   "cell_type": "code",
   "execution_count": 622,
   "metadata": {},
   "outputs": [
    {
     "data": {
      "text/plain": [
       "0.14821763602251406"
      ]
     },
     "execution_count": 622,
     "metadata": {},
     "output_type": "execute_result"
    }
   ],
   "source": [
    "sum(os>upper)/len(os)"
   ]
  },
  {
   "cell_type": "code",
   "execution_count": 486,
   "metadata": {},
   "outputs": [
    {
     "data": {
      "text/plain": [
       "<Axes: ylabel='Count'>"
      ]
     },
     "execution_count": 486,
     "metadata": {},
     "output_type": "execute_result"
    },
    {
     "data": {
      "image/png": "[encoded data removed]",
      "text/plain": [
       "<Figure size 640x480 with 1 Axes>"
      ]
     },
     "metadata": {},
     "output_type": "display_data"
    }
   ],
   "source": [
    "sns.histplot({'os': os, 'ns': ns}, color=['r','b'], alpha=0.3, binrange=(0, 1), binwidth=0.01, kde=True)"
   ]
  },
  {
   "cell_type": "code",
   "execution_count": 656,
   "metadata": {},
   "outputs": [
    {
     "name": "stdout",
     "output_type": "stream",
     "text": [
      "[[8, 9, 10, 11, 12], [13, 14, 15, 16, 17, 18], [19, 20, 21, 22], [23, 24, 25, 26, 27, 28, 29, 30]]\n",
      "[[106, 107, 108, 109, 110, 111, 112, 113, 114, 115, 116, 117, 118, 119, 120, 121, 122, 123, 124, 125], [126, 127, 128, 129], [130, 131, 132], [133, 134, 135, 136, 137, 138, 139, 140, 141]]\n",
      "[[548, 549, 550, 551, 552, 553, 554, 555, 556, 557, 558, 559, 560, 561, 562, 563, 564, 565, 566], [567, 568, 569, 570, 571, 572, 573, 574, 575, 576, 577, 578, 579, 580, 581, 582, 583, 584, 585, 586, 587, 588, 589, 590, 591, 592, 593, 594, 595, 596, 597, 598, 599, 600, 601, 602, 603, 604, 605, 606, 607, 608, 609, 610, 611, 612, 613, 614, 615, 616, 617, 618, 619, 620, 621, 622, 623, 624, 625, 626, 627, 628, 629, 630, 631, 632, 633, 634, 635, 636, 637, 638, 639, 640, 641, 642, 643, 644, 645, 646, 647, 648, 649, 650, 651, 652, 653, 654, 655, 656, 657, 658], [659, 660, 661, 662, 663, 664, 665, 666, 667, 668, 669, 670, 671, 672, 673, 674, 675, 676], [677, 678, 679, 680, 681, 682, 683, 684, 685, 686, 687, 688, 689, 690, 691, 692, 693, 694, 695, 696, 697, 698, 699, 700, 701, 702, 703, 704, 705, 706, 707, 708, 709, 710, 711, 712, 713, 714, 715, 716, 717, 718, 719, 720, 721, 722, 723, 724, 725, 726, 727, 728, 729, 730, 731, 732, 733, 734, 735, 736, 737, 738, 739, 740, 741, 742, 743, 744, 745, 746, 747, 748, 749, 750, 751, 752, 753, 754, 755, 756, 757, 758, 759, 760, 761, 762, 763, 764, 765, 766, 767, 768, 769, 770, 771, 772, 773, 774, 775, 776, 777, 778, 779, 780, 781, 782, 783, 784, 785, 786, 787, 788, 789, 790, 791, 792, 793, 794, 795, 796, 797, 798, 799, 800, 801, 802, 803, 804, 805, 806, 807, 808, 809, 810, 811, 812, 813, 814, 815, 816, 817, 818, 819, 820, 821, 822, 823, 824, 825, 826, 827, 828, 829, 830, 831, 832, 833, 834, 835, 836, 837, 838, 839, 840, 841, 842, 843, 844, 845, 846, 847, 848, 849, 850, 851, 852, 853, 854, 855, 856, 857, 858, 859, 860, 861, 862, 863, 864, 865, 866, 867, 868, 869, 870, 871, 872, 873, 874, 875, 876, 877, 878, 879, 880, 881, 882, 883, 884, 885, 886, 887, 888, 889, 890, 891, 892, 893, 894, 895, 896, 897, 898, 899, 900, 901, 902, 903, 904, 905, 906, 907, 908, 909, 910, 911, 912, 913, 914, 915, 916, 917, 918, 919, 920, 921, 922, 923, 924, 925, 926, 927, 928, 929, 930]]\n",
      "[[677, 678, 679, 680, 681, 682, 683, 684, 685, 686, 687, 688, 689, 690, 691, 692, 693, 694, 695, 696, 697, 698, 699, 700, 701, 702, 703, 704, 705, 706, 707, 708, 709, 710, 711, 712, 713, 714, 715, 716, 717, 718, 719, 720, 721, 722, 723, 724, 725, 726, 727, 728, 729, 730, 731, 732, 733, 734, 735, 736, 737, 738, 739, 740, 741, 742, 743, 744, 745, 746, 747, 748, 749, 750, 751, 752, 753, 754, 755, 756, 757, 758, 759, 760, 761, 762, 763, 764, 765, 766, 767, 768, 769, 770, 771, 772, 773, 774, 775, 776, 777, 778, 779, 780, 781, 782, 783, 784, 785, 786, 787, 788, 789, 790, 791, 792, 793, 794, 795, 796, 797, 798, 799, 800, 801, 802, 803, 804, 805, 806, 807, 808, 809, 810, 811, 812, 813, 814, 815, 816, 817, 818, 819, 820, 821, 822, 823, 824, 825, 826, 827, 828, 829, 830, 831, 832, 833, 834, 835, 836, 837, 838, 839, 840, 841, 842, 843, 844, 845, 846, 847, 848, 849, 850, 851, 852, 853, 854, 855, 856, 857, 858, 859, 860, 861, 862, 863, 864, 865, 866, 867, 868, 869, 870, 871, 872, 873, 874, 875, 876, 877, 878, 879, 880, 881, 882, 883, 884, 885, 886, 887, 888, 889, 890, 891, 892, 893, 894, 895, 896, 897, 898, 899, 900, 901, 902, 903, 904, 905, 906, 907, 908, 909, 910, 911, 912, 913, 914, 915, 916, 917, 918, 919, 920, 921, 922, 923, 924, 925, 926, 927, 928, 929, 930], [931, 932, 933, 934, 935, 936, 937, 938, 939, 940, 941, 942, 943, 944, 945, 946, 947, 948, 949, 950, 951, 952, 953, 954, 955, 956, 957, 958, 959, 960, 961, 962, 963, 964, 965, 966, 967, 968, 969, 970, 971, 972, 973, 974, 975, 976, 977, 978, 979, 980, 981, 982, 983, 984, 985, 986, 987, 988, 989, 990, 991, 992, 993, 994, 995, 996, 997, 998, 999, 1000, 1001, 1002, 1003, 1004, 1005, 1006, 1007, 1008, 1009, 1010, 1011], [1012, 1013, 1014, 1015, 1016, 1017, 1018, 1019], [1020, 1021, 1022, 1023, 1024, 1025, 1026, 1027, 1028, 1029, 1030, 1031, 1032, 1033, 1034, 1035, 1036, 1037, 1038, 1039, 1040]]\n",
      "[[1084, 1085, 1086, 1087, 1088, 1089, 1090, 1091, 1092, 1093, 1094, 1095, 1096, 1097, 1098, 1099, 1100, 1101, 1102, 1103, 1104, 1105, 1106, 1107, 1108, 1109, 1110, 1111, 1112, 1113, 1114, 1115, 1116, 1117, 1118, 1119], [1120, 1121, 1122, 1123, 1124, 1125, 1126, 1127, 1128, 1129, 1130, 1131, 1132, 1133, 1134, 1135, 1136, 1137, 1138, 1139, 1140, 1141, 1142, 1143, 1144, 1145, 1146, 1147, 1148, 1149, 1150, 1151, 1152, 1153, 1154, 1155, 1156, 1157, 1158, 1159, 1160, 1161, 1162, 1163, 1164, 1165, 1166, 1167, 1168, 1169, 1170, 1171, 1172, 1173, 1174, 1175, 1176, 1177, 1178, 1179, 1180, 1181, 1182, 1183, 1184, 1185, 1186, 1187, 1188, 1189, 1190, 1191, 1192, 1193, 1194, 1195], [1196, 1197, 1198, 1199, 1200, 1201, 1202, 1203, 1204, 1205, 1206, 1207, 1208, 1209, 1210, 1211, 1212, 1213, 1214, 1215, 1216, 1217, 1218, 1219, 1220, 1221, 1222, 1223, 1224, 1225, 1226, 1227, 1228, 1229, 1230, 1231, 1232, 1233, 1234, 1235, 1236, 1237, 1238, 1239, 1240, 1241, 1242, 1243, 1244, 1245, 1246, 1247, 1248, 1249, 1250, 1251, 1252, 1253, 1254, 1255, 1256, 1257, 1258, 1259, 1260, 1261, 1262, 1263, 1264, 1265, 1266, 1267, 1268, 1269, 1270, 1271, 1272, 1273, 1274, 1275, 1276, 1277, 1278, 1279, 1280, 1281, 1282, 1283, 1284, 1285, 1286, 1287, 1288, 1289, 1290, 1291, 1292, 1293, 1294, 1295, 1296, 1297, 1298, 1299, 1300, 1301, 1302, 1303, 1304, 1305, 1306, 1307, 1308, 1309, 1310, 1311, 1312, 1313, 1314, 1315, 1316, 1317, 1318, 1319, 1320, 1321, 1322, 1323, 1324, 1325, 1326, 1327, 1328, 1329, 1330, 1331, 1332, 1333, 1334, 1335, 1336, 1337, 1338, 1339, 1340, 1341], [1342, 1343, 1344, 1345, 1346, 1347, 1348, 1349, 1350, 1351, 1352, 1353, 1354, 1355, 1356, 1357, 1358, 1359, 1360, 1361, 1362, 1363, 1364, 1365, 1366, 1367, 1368, 1369, 1370, 1371, 1372, 1373, 1374, 1375, 1376, 1377, 1378, 1379, 1380, 1381, 1382, 1383, 1384, 1385, 1386, 1387, 1388, 1389, 1390, 1391, 1392, 1393, 1394, 1395, 1396, 1397, 1398, 1399, 1400, 1401, 1402, 1403, 1404, 1405, 1406, 1407, 1408, 1409, 1410, 1411, 1412, 1413]]\n",
      "[[1120, 1121, 1122, 1123, 1124, 1125, 1126, 1127, 1128, 1129, 1130, 1131, 1132, 1133, 1134, 1135, 1136, 1137, 1138, 1139, 1140, 1141, 1142, 1143, 1144, 1145, 1146, 1147, 1148, 1149, 1150, 1151, 1152, 1153, 1154, 1155, 1156, 1157, 1158, 1159, 1160, 1161, 1162, 1163, 1164, 1165, 1166, 1167, 1168, 1169, 1170, 1171, 1172, 1173, 1174, 1175, 1176, 1177, 1178, 1179, 1180, 1181, 1182, 1183, 1184, 1185, 1186, 1187, 1188, 1189, 1190, 1191, 1192, 1193, 1194, 1195], [1196, 1197, 1198, 1199, 1200, 1201, 1202, 1203, 1204, 1205, 1206, 1207, 1208, 1209, 1210, 1211, 1212, 1213, 1214, 1215, 1216, 1217, 1218, 1219, 1220, 1221, 1222, 1223, 1224, 1225, 1226, 1227, 1228, 1229, 1230, 1231, 1232, 1233, 1234, 1235, 1236, 1237, 1238, 1239, 1240, 1241, 1242, 1243, 1244, 1245, 1246, 1247, 1248, 1249, 1250, 1251, 1252, 1253, 1254, 1255, 1256, 1257, 1258, 1259, 1260, 1261, 1262, 1263, 1264, 1265, 1266, 1267, 1268, 1269, 1270, 1271, 1272, 1273, 1274, 1275, 1276, 1277, 1278, 1279, 1280, 1281, 1282, 1283, 1284, 1285, 1286, 1287, 1288, 1289, 1290, 1291, 1292, 1293, 1294, 1295, 1296, 1297, 1298, 1299, 1300, 1301, 1302, 1303, 1304, 1305, 1306, 1307, 1308, 1309, 1310, 1311, 1312, 1313, 1314, 1315, 1316, 1317, 1318, 1319, 1320, 1321, 1322, 1323, 1324, 1325, 1326, 1327, 1328, 1329, 1330, 1331, 1332, 1333, 1334, 1335, 1336, 1337, 1338, 1339, 1340, 1341], [1342, 1343, 1344, 1345, 1346, 1347, 1348, 1349, 1350, 1351, 1352, 1353, 1354, 1355, 1356, 1357, 1358, 1359, 1360, 1361, 1362, 1363, 1364, 1365, 1366, 1367, 1368, 1369, 1370, 1371, 1372, 1373, 1374, 1375, 1376, 1377, 1378, 1379, 1380, 1381, 1382, 1383, 1384, 1385, 1386, 1387, 1388, 1389, 1390, 1391, 1392, 1393, 1394, 1395, 1396, 1397, 1398, 1399, 1400, 1401, 1402, 1403, 1404, 1405, 1406, 1407, 1408, 1409, 1410, 1411, 1412, 1413], [1414, 1415, 1416, 1417, 1418, 1419, 1420, 1421, 1422, 1423, 1424, 1425, 1426, 1427, 1428, 1429, 1430, 1431, 1432, 1433, 1434, 1435, 1436, 1437, 1438, 1439, 1440, 1441, 1442, 1443, 1444, 1445, 1446, 1447, 1448, 1449, 1450, 1451]]\n",
      "[[1196, 1197, 1198, 1199, 1200, 1201, 1202, 1203, 1204, 1205, 1206, 1207, 1208, 1209, 1210, 1211, 1212, 1213, 1214, 1215, 1216, 1217, 1218, 1219, 1220, 1221, 1222, 1223, 1224, 1225, 1226, 1227, 1228, 1229, 1230, 1231, 1232, 1233, 1234, 1235, 1236, 1237, 1238, 1239, 1240, 1241, 1242, 1243, 1244, 1245, 1246, 1247, 1248, 1249, 1250, 1251, 1252, 1253, 1254, 1255, 1256, 1257, 1258, 1259, 1260, 1261, 1262, 1263, 1264, 1265, 1266, 1267, 1268, 1269, 1270, 1271, 1272, 1273, 1274, 1275, 1276, 1277, 1278, 1279, 1280, 1281, 1282, 1283, 1284, 1285, 1286, 1287, 1288, 1289, 1290, 1291, 1292, 1293, 1294, 1295, 1296, 1297, 1298, 1299, 1300, 1301, 1302, 1303, 1304, 1305, 1306, 1307, 1308, 1309, 1310, 1311, 1312, 1313, 1314, 1315, 1316, 1317, 1318, 1319, 1320, 1321, 1322, 1323, 1324, 1325, 1326, 1327, 1328, 1329, 1330, 1331, 1332, 1333, 1334, 1335, 1336, 1337, 1338, 1339, 1340, 1341], [1342, 1343, 1344, 1345, 1346, 1347, 1348, 1349, 1350, 1351, 1352, 1353, 1354, 1355, 1356, 1357, 1358, 1359, 1360, 1361, 1362, 1363, 1364, 1365, 1366, 1367, 1368, 1369, 1370, 1371, 1372, 1373, 1374, 1375, 1376, 1377, 1378, 1379, 1380, 1381, 1382, 1383, 1384, 1385, 1386, 1387, 1388, 1389, 1390, 1391, 1392, 1393, 1394, 1395, 1396, 1397, 1398, 1399, 1400, 1401, 1402, 1403, 1404, 1405, 1406, 1407, 1408, 1409, 1410, 1411, 1412, 1413], [1414, 1415, 1416, 1417, 1418, 1419, 1420, 1421, 1422, 1423, 1424, 1425, 1426, 1427, 1428, 1429, 1430, 1431, 1432, 1433, 1434, 1435, 1436, 1437, 1438, 1439, 1440, 1441, 1442, 1443, 1444, 1445, 1446, 1447, 1448, 1449, 1450, 1451], [1452, 1453, 1454, 1455, 1456, 1457, 1458, 1459, 1460, 1461, 1462, 1463, 1464, 1465, 1466, 1467, 1468, 1469, 1470, 1471, 1472, 1473]]\n"
     ]
    }
   ],
   "source": [
    "ss_chiasms = []\n",
    "for i, o in enumerate(os):\n",
    "    # if the percentage of >50% of the lines are similar enough\n",
    "    if o > 0.5:\n",
    "        refs=[]\n",
    "        text = []\n",
    "        heb_text = []\n",
    "        print(indices[i:i+N])\n",
    "        for line in indices[i:i+N]:\n",
    "            if type(line[0]) == str:\n",
    "                # then we know it's a half-verse processing\n",
    "                for idx in line:\n",
    "                    if 'a' in idx:\n",
    "                        refs.append(df['heb_ref'].tolist()[int(idx[:-1])])\n",
    "                        text.append(df['trans_a'].tolist()[int(idx[:-1])])\n",
    "                        heb_text.append(df['half_a'].tolist()[int(idx[:-1])])\n",
    "                    elif 'b' in idx:\n",
    "                        refs.append(df['heb_ref'].tolist()[int(idx[:-1])])\n",
    "                        text.append(df['trans_b'].tolist()[int(idx[:-1])])\n",
    "                        heb_text.append(df['half_b'].tolist()[int(idx[:-1])])\n",
    "                    else:\n",
    "                        refs.append(df['heb_ref'].tolist()[int(idx)])\n",
    "                        text.append(df['translation'].tolist()[int(idx)])\n",
    "                        heb_text.append(df['line'].tolist()[int(idx)])\n",
    "            else:\n",
    "                refs.append([df['heb_ref'].tolist()[idx] for idx in line])\n",
    "                text.append([df['translation'].tolist()[idx] for idx in line])\n",
    "                heb_text.append([df['line'].tolist()[idx] for idx in line])\n",
    "        \n",
    "        ss_chiasms.append({\"refs\": \"\\n\".join([str(x) for x in refs]),\n",
    "                          \"text\": \"\\n\".join([str(x) for x in heb_text]),\n",
    "                          \"translation\": \"\\n\".join([str(x) for x in text])})\n",
    "        "
   ]
  },
  {
   "cell_type": "code",
   "execution_count": 657,
   "metadata": {},
   "outputs": [
    {
     "name": "stdout",
     "output_type": "stream",
     "text": [
      "['and/ he said God let them gather the/ waters from/ under the/ heavens to a place one and/ let it appear', 'and/ he called God <to> the/ dry ground earth and/ <to>/ [the] collection of the/ waters he called seas and/ he saw God', 'and/ he said God let it sprout the/ earth vegetation plant[s] [which] bears seed seed tree[s] of fruit', 'and/ <it> brought forth the/ earth vegetation plant[s] [which] bears seed seed to/ kind/ its and/ tree[s] producing fruit', 'and/ there was evening and/ there was morning a day third']\n",
      "['and/ he said God let it be luminaries in/ [the] firmament of the/ heavens to/ separate between the/ day and/ between', 'and/ they will become <into>/ luminaries in/ [the] firmament of the/ heavens to/ give light on the/ earth and/ it was so', 'and/ he made God <obj.> [the] two the/ luminaries <the>/ great <obj.> the/ luminary <the>/ great for/ [the] dominion of', 'and/ he set <obj.>/ them God in/ [the] firmament of the/ heavens to/ give light on the/ earth', 'and/ to/ rule over the/ day and/ over the/ night and/ to/ separate between the/ light and/ between the/ darkness and/ he saw God', 'and/ there was evening and/ there was morning a day fourth']\n",
      "['and/ he said God let them swarm the/ waters swarming thing[s] creature[s] living and/ bird[s] let it fly above', 'and/ he created God <obj.> the/ sea monsters <the>/ great and/ <obj.> every creature <the>/ living which/ creeps', 'and/ he blessed <obj.>/ them God <to>/ saying be fruitful and/ multiply and/ fill <obj.> the/ waters in the/ seas', 'and/ there was evening and/ there was morning a day fifth']\n",
      "['and/ he said God let it produce the/ earth creature[s] living to/ kind/ its livestock and/ creeping thing[s] and/ animal[s] of', 'and/ he made God <obj.> [the] animal[s] of the/ earth to/ kind/ its and/ <obj.> the/ livestock to/ kind/ its and/ <obj.>', 'and/ he said God let us make humankind in/ image/ our according to/ likeness/ our and/ they may rule over/ [the] fish of the/ sea and/ over/ [the] bird[s] of', 'and/ he created God <obj.> <the>/ humankind in/ own image/ his in/ [the] image of God he created <obj.>/ it male', 'and/ he blessed <obj.>/ them God and/ he said to <the>/ them God be fruitful and/ multiply and/ fill <obj.>', 'and/ he said God here! I give to <the>/ you <obj.> every plant [which] bears seed seed', 'and/ to/ every <the> animal of the/ earth and/ to/ every <the> bird of the/ heavens and/ to/ every creeping [thing] on the/ earth', 'and/ he saw God <obj.> all that he had made and/ there! [it was] good very and/ there was']\n"
     ]
    }
   ],
   "source": [
    "# okay, IDK why, but it just seems like threshold works the best. It's really interesting to see the genesis paragraph groupings\n",
    "print(pd.DataFrame.from_records(ss_chiasms).iloc[0]['translation'])"
   ]
  },
  {
   "cell_type": "code",
   "execution_count": 651,
   "metadata": {},
   "outputs": [],
   "source": [
    "pd.DataFrame.from_records(ss_chiasms).head().to_excel('test.xlsx')"
   ]
  },
  {
   "cell_type": "code",
   "execution_count": 551,
   "metadata": {},
   "outputs": [],
   "source": [
    "p_values = np.array([np.mean(ns >= obs_score) for obs_score in os])"
   ]
  },
  {
   "cell_type": "code",
   "execution_count": 518,
   "metadata": {},
   "outputs": [
    {
     "name": "stdout",
     "output_type": "stream",
     "text": [
      "and/ it will be when/ bring cloud/ I cloud over the/ earth and/ it will be seen the/ bow in the/ cloud[s]\n"
     ]
    }
   ],
   "source": [
    "print(df['translation'].iloc[219])"
   ]
  },
  {
   "cell_type": "code",
   "execution_count": 535,
   "metadata": {},
   "outputs": [
    {
     "data": {
      "text/html": [
       "<div>\n",
       "<style scoped>\n",
       "    .dataframe tbody tr th:only-of-type {\n",
       "        vertical-align: middle;\n",
       "    }\n",
       "\n",
       "    .dataframe tbody tr th {\n",
       "        vertical-align: top;\n",
       "    }\n",
       "\n",
       "    .dataframe thead th {\n",
       "        text-align: right;\n",
       "    }\n",
       "</style>\n",
       "<table border=\"1\" class=\"dataframe\">\n",
       "  <thead>\n",
       "    <tr style=\"text-align: right;\">\n",
       "      <th></th>\n",
       "      <th>heb_ref</th>\n",
       "      <th>eng_ref</th>\n",
       "      <th>line</th>\n",
       "      <th>half_a</th>\n",
       "      <th>half_b</th>\n",
       "      <th>translation</th>\n",
       "      <th>trans_a</th>\n",
       "      <th>trans_b</th>\n",
       "    </tr>\n",
       "  </thead>\n",
       "  <tbody>\n",
       "    <tr>\n",
       "      <th>0</th>\n",
       "      <td>Gen.1.1</td>\n",
       "      <td>Gen.1.1</td>\n",
       "      <td>בְּ רֵאשִׁ֖ית בָּרָ֣א אֱלֹהִ֑ים אֵ֥ת הַ שָּׁמַ...</td>\n",
       "      <td>בְּ רֵאשִׁ֖ית בָּרָ֣א אֱלֹהִ֑ים</td>\n",
       "      <td>אֵ֥ת הַ שָּׁמַ֖יִם וְ אֵ֥ת הָ אָֽרֶץ ׃</td>\n",
       "      <td>in/ beginning he created God &lt;obj.&gt; the/ heave...</td>\n",
       "      <td>in/ beginning he created God &lt;obj.&gt;</td>\n",
       "      <td>the/ heavens and/ &lt;obj.&gt; the/ earth</td>\n",
       "    </tr>\n",
       "    <tr>\n",
       "      <th>1</th>\n",
       "      <td>Gen.1.2</td>\n",
       "      <td>Gen.1.2</td>\n",
       "      <td>וְ הָ אָ֗רֶץ הָיְתָ֥ה תֹ֙הוּ֙ וָ בֹ֔הוּ וְ חֹ֖...</td>\n",
       "      <td>וְ הָ אָ֗רֶץ הָיְתָ֥ה תֹ֙הוּ֙ וָ בֹ֔הוּ וְ חֹ֖...</td>\n",
       "      <td>וְ ר֣וּחַ אֱלֹהִ֔ים מְרַחֶ֖פֶת עַל ־ פְּנֵ֥י ה...</td>\n",
       "      <td>and/ the/ earth &lt;it&gt; was formlessness and/ emp...</td>\n",
       "      <td>and/ the/ earth &lt;it&gt; was formlessness and/ emp...</td>\n",
       "      <td>over [the] surface of [the] deep and/ [the] sp...</td>\n",
       "    </tr>\n",
       "    <tr>\n",
       "      <th>2</th>\n",
       "      <td>Gen.1.3</td>\n",
       "      <td>Gen.1.3</td>\n",
       "      <td>וַ יֹּ֥אמֶר אֱלֹהִ֖ים יְהִ֣י א֑וֹר וַֽ יְהִי ־...</td>\n",
       "      <td>וַ יֹּ֥אמֶר אֱלֹהִ֖ים יְהִ֣י א֑וֹר</td>\n",
       "      <td>וַֽ יְהִי ־ אֽוֹר ׃</td>\n",
       "      <td>and/ he said God let it be light and/ there wa...</td>\n",
       "      <td>and/ he said God let it</td>\n",
       "      <td>be light and/ there was light</td>\n",
       "    </tr>\n",
       "    <tr>\n",
       "      <th>3</th>\n",
       "      <td>Gen.1.4</td>\n",
       "      <td>Gen.1.4</td>\n",
       "      <td>וַ יַּ֧רְא אֱלֹהִ֛ים אֶת ־ הָ א֖וֹר כִּי ־ ט֑ו...</td>\n",
       "      <td>וַ יַּ֧רְא אֱלֹהִ֛ים אֶת ־ הָ א֖וֹר כִּי ־ ט֑וֹב</td>\n",
       "      <td>וַ יַּבְדֵּ֣ל אֱלֹהִ֔ים בֵּ֥ין הָ א֖וֹר וּ בֵ֥...</td>\n",
       "      <td>and/ he saw God &lt;obj.&gt; the/ light that [it was...</td>\n",
       "      <td>and/ he saw God &lt;obj.&gt; the/ light that [it</td>\n",
       "      <td>was] good and/ he separated God between the/ l...</td>\n",
       "    </tr>\n",
       "    <tr>\n",
       "      <th>4</th>\n",
       "      <td>Gen.1.5</td>\n",
       "      <td>Gen.1.5</td>\n",
       "      <td>וַ יִּקְרָ֨א אֱלֹהִ֤ים ׀ לָ אוֹר֙ י֔וֹם וְ לַ ...</td>\n",
       "      <td>וַ יִּקְרָ֨א אֱלֹהִ֤ים ׀ לָ אוֹר֙ י֔וֹם וְ לַ ...</td>\n",
       "      <td>וַֽ יְהִי ־ עֶ֥רֶב וַֽ יְהִי ־ בֹ֖קֶר י֥וֹם אֶ...</td>\n",
       "      <td>and/ he called God &lt;to&gt; the/ light day and/ &lt;t...</td>\n",
       "      <td>and/ he called God &lt;to&gt; the/ light day and/ &lt;t...</td>\n",
       "      <td>darkness he called night and/ there was evenin...</td>\n",
       "    </tr>\n",
       "  </tbody>\n",
       "</table>\n",
       "</div>"
      ],
      "text/plain": [
       "   heb_ref  eng_ref                                               line  \\\n",
       "0  Gen.1.1  Gen.1.1  בְּ רֵאשִׁ֖ית בָּרָ֣א אֱלֹהִ֑ים אֵ֥ת הַ שָּׁמַ...   \n",
       "1  Gen.1.2  Gen.1.2  וְ הָ אָ֗רֶץ הָיְתָ֥ה תֹ֙הוּ֙ וָ בֹ֔הוּ וְ חֹ֖...   \n",
       "2  Gen.1.3  Gen.1.3  וַ יֹּ֥אמֶר אֱלֹהִ֖ים יְהִ֣י א֑וֹר וַֽ יְהִי ־...   \n",
       "3  Gen.1.4  Gen.1.4  וַ יַּ֧רְא אֱלֹהִ֛ים אֶת ־ הָ א֖וֹר כִּי ־ ט֑ו...   \n",
       "4  Gen.1.5  Gen.1.5  וַ יִּקְרָ֨א אֱלֹהִ֤ים ׀ לָ אוֹר֙ י֔וֹם וְ לַ ...   \n",
       "\n",
       "                                              half_a  \\\n",
       "0                    בְּ רֵאשִׁ֖ית בָּרָ֣א אֱלֹהִ֑ים   \n",
       "1  וְ הָ אָ֗רֶץ הָיְתָ֥ה תֹ֙הוּ֙ וָ בֹ֔הוּ וְ חֹ֖...   \n",
       "2                 וַ יֹּ֥אמֶר אֱלֹהִ֖ים יְהִ֣י א֑וֹר   \n",
       "3   וַ יַּ֧רְא אֱלֹהִ֛ים אֶת ־ הָ א֖וֹר כִּי ־ ט֑וֹב   \n",
       "4  וַ יִּקְרָ֨א אֱלֹהִ֤ים ׀ לָ אוֹר֙ י֔וֹם וְ לַ ...   \n",
       "\n",
       "                                              half_b  \\\n",
       "0             אֵ֥ת הַ שָּׁמַ֖יִם וְ אֵ֥ת הָ אָֽרֶץ ׃   \n",
       "1  וְ ר֣וּחַ אֱלֹהִ֔ים מְרַחֶ֖פֶת עַל ־ פְּנֵ֥י ה...   \n",
       "2                                וַֽ יְהִי ־ אֽוֹר ׃   \n",
       "3  וַ יַּבְדֵּ֣ל אֱלֹהִ֔ים בֵּ֥ין הָ א֖וֹר וּ בֵ֥...   \n",
       "4  וַֽ יְהִי ־ עֶ֥רֶב וַֽ יְהִי ־ בֹ֖קֶר י֥וֹם אֶ...   \n",
       "\n",
       "                                         translation  \\\n",
       "0  in/ beginning he created God <obj.> the/ heave...   \n",
       "1  and/ the/ earth <it> was formlessness and/ emp...   \n",
       "2  and/ he said God let it be light and/ there wa...   \n",
       "3  and/ he saw God <obj.> the/ light that [it was...   \n",
       "4  and/ he called God <to> the/ light day and/ <t...   \n",
       "\n",
       "                                             trans_a  \\\n",
       "0                in/ beginning he created God <obj.>   \n",
       "1  and/ the/ earth <it> was formlessness and/ emp...   \n",
       "2                            and/ he said God let it   \n",
       "3         and/ he saw God <obj.> the/ light that [it   \n",
       "4  and/ he called God <to> the/ light day and/ <t...   \n",
       "\n",
       "                                             trans_b  \n",
       "0                the/ heavens and/ <obj.> the/ earth  \n",
       "1  over [the] surface of [the] deep and/ [the] sp...  \n",
       "2                      be light and/ there was light  \n",
       "3  was] good and/ he separated God between the/ l...  \n",
       "4  darkness he called night and/ there was evenin...  "
      ]
     },
     "execution_count": 535,
     "metadata": {},
     "output_type": "execute_result"
    }
   ],
   "source": [
    "df.head()"
   ]
  },
  {
   "cell_type": "code",
   "execution_count": 546,
   "metadata": {},
   "outputs": [
    {
     "name": "stdout",
     "output_type": "stream",
     "text": [
      "[['219b'], ['220a'], ['220b'], ['221a']]\n",
      "[['624a'], ['624b'], ['625a'], ['625b']]\n",
      "[['840'], ['841a'], ['841b'], ['842']]\n",
      "[['1069a'], ['1069b'], ['1070a'], ['1070b']]\n"
     ]
    }
   ],
   "source": [
    "alpha = 0.005\n",
    "# we need special text processing for if it's half-line\n",
    "# now we collect all the significant chiasms and save their references and their text\n",
    "ss_chiasms = []\n",
    "for i, p in enumerate(p_values):\n",
    "    \n",
    "    if p < alpha:\n",
    "        refs=[]\n",
    "        text = []\n",
    "        heb_text = []\n",
    "        print(indices[i:i+N])\n",
    "        for line in indices[i:i+N]:\n",
    "            if type(line[0]) == str:\n",
    "                # then we know it's a half-verse processing\n",
    "                for idx in line:\n",
    "                    if 'a' in idx:\n",
    "                        refs.append(df['heb_ref'].tolist()[int(idx[:-1])])\n",
    "                        text.append(df['trans_a'].tolist()[int(idx[:-1])])\n",
    "                        heb_text.append(df['half_a'].tolist()[int(idx[:-1])])\n",
    "                    elif 'b' in idx:\n",
    "                        refs.append(df['heb_ref'].tolist()[int(idx[:-1])])\n",
    "                        text.append(df['trans_b'].tolist()[int(idx[:-1])])\n",
    "                        heb_text.append(df['half_b'].tolist()[int(idx[:-1])])\n",
    "                    else:\n",
    "                        refs.append(df['heb_ref'].tolist()[int(idx)])\n",
    "                        text.append(df['translation'].tolist()[int(idx)])\n",
    "                        heb_text.append(df['line'].tolist()[int(idx)])\n",
    "            else:\n",
    "                refs.extend([df['heb_ref'].tolist()[idx] for idx in line])\n",
    "                text.append([df['translation'].tolist()[idx] for idx in line])\n",
    "                heb_text.append([df['line'].tolist()[idx] for idx in line])\n",
    "        \n",
    "        ss_chiasms.append({\"refs\": \"\\n\".join(refs),\n",
    "                          \"text\": \"\\n\".join(heb_text),\n",
    "                          \"translation\": \"\\n\".join(text)})\n",
    "        \n",
    "        # so, okay, here I want to be able to save it as a csv, pandas is good for that\n",
    "\n",
    "        # for ref in refs:\n",
    "        #     print(ref)\n",
    "        # for line in text:\n",
    "        #     print(line)\n",
    "        # for line in heb_text:\n",
    "        #     print(line)\n",
    "        # print(\"\\n\")\n",
    "        # cnt += 1\n",
    "        # if cnt == 10:\n",
    "        #     break"
   ]
  },
  {
   "cell_type": "code",
   "execution_count": null,
   "metadata": {},
   "outputs": [],
   "source": [
    "! pip install openpyxl"
   ]
  },
  {
   "cell_type": "code",
   "execution_count": 550,
   "metadata": {},
   "outputs": [],
   "source": [
    "pd.DataFrame.from_records(ss_chiasms).head().to_excel('test.xlsx')"
   ]
  },
  {
   "cell_type": "code",
   "execution_count": 438,
   "metadata": {},
   "outputs": [
    {
     "name": "stdout",
     "output_type": "stream",
     "text": [
      "Gen.1.2\n",
      "['and/ the/ earth <it> was formlessness and/ emptiness and/ darkness [was] over [the] surface of [the] deep and/ [the] spirit of God']\n",
      "['and/ he said God let it be light and/ there was light']\n",
      "['and/ he saw God <obj.> the/ light that [it was] good and/ he separated God between the/ light']\n",
      "['and/ he called God <to> the/ light day and/ <to> the/ darkness he called night and/ there was evening and/ there was']\n",
      "\n",
      "\n",
      "Gen.1.3\n",
      "['and/ he said God let it be light and/ there was light']\n",
      "['and/ he saw God <obj.> the/ light that [it was] good and/ he separated God between the/ light']\n",
      "['and/ he called God <to> the/ light day and/ <to> the/ darkness he called night and/ there was evening and/ there was']\n",
      "['and/ he said God let it be a firmament in/ [the] middle of the/ waters and/ let it be separating between waters']\n",
      "\n",
      "\n",
      "Gen.1.4\n",
      "['and/ he saw God <obj.> the/ light that [it was] good and/ he separated God between the/ light']\n",
      "['and/ he called God <to> the/ light day and/ <to> the/ darkness he called night and/ there was evening and/ there was']\n",
      "['and/ he said God let it be a firmament in/ [the] middle of the/ waters and/ let it be separating between waters']\n",
      "['and/ he made God <obj.> the/ firmament and/ he separated between the/ waters which [were] from/ under to the/ firmament']\n",
      "\n",
      "\n",
      "Gen.1.5\n",
      "['and/ he called God <to> the/ light day and/ <to> the/ darkness he called night and/ there was evening and/ there was']\n",
      "['and/ he said God let it be a firmament in/ [the] middle of the/ waters and/ let it be separating between waters']\n",
      "['and/ he made God <obj.> the/ firmament and/ he separated between the/ waters which [were] from/ under to the/ firmament']\n",
      "['and/ he called God <to> the/ firmament heaven and/ there was evening and/ there was morning a day second']\n",
      "\n",
      "\n",
      "Gen.1.6\n",
      "['and/ he said God let it be a firmament in/ [the] middle of the/ waters and/ let it be separating between waters']\n",
      "['and/ he made God <obj.> the/ firmament and/ he separated between the/ waters which [were] from/ under to the/ firmament']\n",
      "['and/ he called God <to> the/ firmament heaven and/ there was evening and/ there was morning a day second']\n",
      "['and/ he said God let them gather the/ waters from/ under the/ heavens to a place one and/ let it appear']\n",
      "\n",
      "\n",
      "Gen.1.10\n",
      "['and/ he called God <to> the/ dry ground earth and/ <to>/ [the] collection of the/ waters he called seas and/ he saw God']\n",
      "['and/ he said God let it sprout the/ earth vegetation plant[s] [which] bears seed seed tree[s] of fruit']\n",
      "['and/ <it> brought forth the/ earth vegetation plant[s] [which] bears seed seed to/ kind/ its and/ tree[s] producing fruit']\n",
      "['and/ there was evening and/ there was morning a day third']\n",
      "\n",
      "\n",
      "Gen.1.23\n",
      "['and/ there was evening and/ there was morning a day fifth']\n",
      "['and/ he said God let it produce the/ earth creature[s] living to/ kind/ its livestock and/ creeping thing[s] and/ animal[s] of']\n",
      "['and/ he made God <obj.> [the] animal[s] of the/ earth to/ kind/ its and/ <obj.> the/ livestock to/ kind/ its and/ <obj.>']\n",
      "['and/ he said God let us make humankind in/ image/ our according to/ likeness/ our and/ they may rule over/ [the] fish of the/ sea and/ over/ [the] bird[s] of']\n",
      "\n",
      "\n",
      "Gen.2.1\n",
      "['and/ they were completed the/ heavens and/ the/ earth and/ all host/ their']\n",
      "['and/ he completed God on the/ day <the>/ seventh work/ his which he had done and/ he rested on the/ day <the>/ seventh']\n",
      "['and/ he blessed God <obj.> [the] day <the>/ seventh and/ he set apart as holy <obj.>/ it for on <the>/ it he rested']\n",
      "['these [are] [the] accounts of the/ heavens and/ the/ earth when/ were created/ they on/ [the] day made Yahweh God earth']\n",
      "\n",
      "\n",
      "Gen.2.3\n",
      "['and/ he blessed God <obj.> [the] day <the>/ seventh and/ he set apart as holy <obj.>/ it for on <the>/ it he rested']\n",
      "['these [are] [the] accounts of the/ heavens and/ the/ earth when/ were created/ they on/ [the] day made Yahweh God earth']\n",
      "['and/ any <the> shrub of the/ field not yet <it> was on the/ earth and/ any <the> vegetation of the/ field not yet']\n",
      "['and/ water <it> came up from the/ earth and/ it watered <obj.> all [the] surface of the/ ground']\n",
      "\n",
      "\n",
      "Gen.2.15\n",
      "['and/ he took Yahweh God <obj.> the/ man and/ he put/ him in/ [the] garden of Eden to/ till/ it and/ to/ keep/ it']\n",
      "['and/ he commanded Yahweh God to the/ man <to>/ saying from/ any <the> tree of the/ garden certainly <to eat>']\n",
      "['and/ from/ [the] tree of the/ knowledge good and/ evil not you must eat from/ it for on/ [the] day eating/ you']\n",
      "['and/ he said Yahweh God not [is] good to be the/ man to/ only/ him I will make for <the>/ him']\n",
      "\n",
      "\n"
     ]
    },
    {
     "data": {
      "text/plain": [
       "10"
      ]
     },
     "execution_count": 438,
     "metadata": {},
     "output_type": "execute_result"
    }
   ],
   "source": [
    "# 5. compute stat sig\n",
    "from scipy.stats import norm\n",
    "\n",
    "def calculate_p_value(observed_scores, random_scores):\n",
    "    mu_random = np.mean(random_scores)\n",
    "    sigma_random = np.std(random_scores)\n",
    "    p_values = []\n",
    "\n",
    "    for score in observed_scores:\n",
    "        z_score = (score - mu_random) / sigma_random\n",
    "        p_value = norm.sf(abs(z_score)) * 2  # Two-tailed test\n",
    "        p_values.append(p_value)\n",
    "    return p_values\n",
    "\n",
    "p_vals = calculate_p_value(os, ns)\n",
    "alpha = 0.0001\n",
    "cnt = 0\n",
    "\n",
    "for i, p in enumerate(p_vals):\n",
    "    if p < alpha:\n",
    "        text = []\n",
    "        for line in indices[i:i+N]:\n",
    "            text.append([df['translation'].tolist()[idx] for idx in line])\n",
    "        print(df['heb_ref'].tolist()[i])\n",
    "        for line in text:\n",
    "            print(line)\n",
    "        print(\"\\n\")\n",
    "        cnt += 1\n",
    "        if cnt == 10:\n",
    "            break\n",
    "cnt"
   ]
  },
  {
   "cell_type": "code",
   "execution_count": 172,
   "metadata": {},
   "outputs": [
    {
     "data": {
      "text/plain": [
       "0.23157208088714937"
      ]
     },
     "execution_count": 172,
     "metadata": {},
     "output_type": "execute_result"
    }
   ],
   "source": [
    "cnt/len(groups)"
   ]
  },
  {
   "cell_type": "markdown",
   "metadata": {},
   "source": [
    "# Helpers"
   ]
  },
  {
   "cell_type": "code",
   "execution_count": 35,
   "metadata": {},
   "outputs": [
    {
     "name": "stdout",
     "output_type": "stream",
     "text": [
      "Half Verses: (['בראשית ברא אלהים', 'את השמים ואת הארץ', 'והארץ היתה תהו ובהו וחשך עלפני תהום', 'ורוח אלהים מרחפת עלפני המיםפ', 'ו ס', 'ופ', 'והארץ היתה תהו ובהו וחשך עלפני תהום', 'ורוח אלהים מרחפת עלפני המיםס'], [['0a'], ['0b'], ['1a'], ['1b'], ['2'], ['3'], ['4a'], ['4b']])\n",
      "curr_book is Gen\n",
      "Gen equals Gen\n",
      "Gen equals Gen\n",
      "Gen equals Gen\n",
      "moved onto a new book: Exo\n",
      "adding [{'book': 'Gen', 'chapter': 1, 'verse': 1}, {'book': 'Gen', 'chapter': 1, 'verse': 2}, {'book': 'Gen', 'chapter': 1, 'verse': 3}] to groups\n",
      "Exo equals Exo\n",
      "Pesucha Groups: (['בראשית ברא אלהים את השמים ואת הארץ׃והארץ היתה תהו ובהו וחשך על־פני תהום ורוח אלהים מרחפת על־פני המים׃פו ׃ס'], [[0, 1, 2]])\n"
     ]
    }
   ],
   "source": [
    "## Group verses\n",
    "# this will be a func to group verses into a set of half-verses, verses, pesucha, or setuma as seen fit.\n",
    "# assume we are given a list of verse strings, \n",
    "# if half-verse, concat and split on the atnach, ATNACH = '\\u0591'\n",
    "# if pesucha, concat and split on  '׃פ'\n",
    "# if setuma, concat and split on '׃ס'\n",
    "\n",
    "import re\n",
    "\n",
    "# Define special symbols\n",
    "ATNACH = '\\u0591'  # Unicode for Atnach (half-verse separator)\n",
    "PESUCHA = '׃ פ'     # Pesucha separator\n",
    "SETUMA = '׃ ס'      # Setuma separator\n",
    "\n",
    "def group_verses(data, group_type):\n",
    "    \"\"\"\n",
    "    Group verses into half-verses, pesucha, or setuma sections.\n",
    "    \n",
    "    Args:\n",
    "    - data: list of tuples of locations and verse strings\n",
    "    - group_type: how to group the verses, can be 'half', 'pesucha', or 'setuma'\n",
    "    \n",
    "    Returns:\n",
    "    - A list of grouped verse strings.\n",
    "    - A list of lists of verse indices in their groups\n",
    "    \"\"\"\n",
    "    \n",
    "    locs, verses = data\n",
    "    \n",
    "    # the half-verse processing requires different processing as each verse must be processed individually\n",
    "    if group_type == \"verse\":\n",
    "        indices = [[i] for i in range(len(verses))] # [[0], [1], [2]...] bc each group is just one verse\n",
    "        return [remove_nikkud(v) for v in verses], indices\n",
    "    \n",
    "    # Define the splitting logic based on group type\n",
    "    elif group_type == 'half':\n",
    "        groups = []\n",
    "        indices = []\n",
    "        for idx, verse in enumerate(verses):\n",
    "            words = verse.split()\n",
    "            split = None\n",
    "            for i, w in enumerate(words):\n",
    "                if ATNACH in w:\n",
    "                    split = i\n",
    "            if split != None: # if there are half-verses, add them individually\n",
    "                groups.append(' '.join(words[:split+1]))\n",
    "                groups.append(' '.join(words[split+1:]))\n",
    "                indices.append([f\"{idx}a\"])\n",
    "                indices.append([f\"{idx}b\"])\n",
    "            else: # otherwise, add the whole verse\n",
    "                groups.append(verse)\n",
    "                indices.append([f\"{idx}\"])\n",
    "\n",
    "        # some post-processing: remove nikkud and PESUCHA and SETUMA symbols\n",
    "        groups = [remove_nikkud(g, keep_end=False).replace(PESUCHA, '׃').replace(SETUMA, '׃') for g in groups]\n",
    "        return groups, indices\n",
    "    \n",
    "    ##################################################\n",
    "    # Concatenate all verses into a single text block\n",
    "    # I think to make the indexing possible, I need to change how I do this. Need to iterate through so I can\n",
    "    # keep track of verse delineationgs\n",
    "    elif group_type in ['pesucha', 'setuma']:\n",
    "        split_char = PESUCHA if group_type == 'pesucha' else SETUMA\n",
    "        groups = []\n",
    "        indices = []\n",
    "        curr_text = ''\n",
    "        curr_book = locs[0].book\n",
    "        print(f\"curr_book is {curr_book}\")\n",
    "        curr_vs = []\n",
    "        for idx, verse in enumerate(verses):\n",
    "            book = locs[idx].book\n",
    "            # if we're still in the same book:\n",
    "            if book == curr_book:\n",
    "                print(f\"{book} equals {curr_book}\")\n",
    "                if split_char in verse:\n",
    "                    print(f\"{split_char} in verse\")\n",
    "                    # add the final verse text in\n",
    "                    curr_text += verse\n",
    "                    curr_vs.append(idx)\n",
    "                    # the group is complete, add it to groups\n",
    "                    groups.append(remove_nikkud(curr_text, keep_end=True).replace(PESUCHA, '׃').replace(SETUMA, '׃'))\n",
    "                    indices.append(curr_vs)\n",
    "                    print(f\"adding {[locs[x] for x in curr_vs]} to groups\")\n",
    "                    # reset counters\n",
    "                    curr_text = ''\n",
    "                    curr_vs = []\n",
    "                else:\n",
    "                    curr_text += verse\n",
    "                    curr_vs.append(idx)\n",
    "            # otherwise, we just add whatever is leftover as a group and reset everything\n",
    "            else:\n",
    "                print(f\"moved onto a new book: {book}\")\n",
    "                groups.append(remove_nikkud(curr_text, keep_end=True).replace(PESUCHA, '׃').replace(SETUMA, '׃'))\n",
    "                print(f\"adding {[locs[x] for x in curr_vs]} to groups\")\n",
    "                indices.append(curr_vs)\n",
    "                curr_text = verse\n",
    "                curr_vs = [idx]\n",
    "                curr_book = book\n",
    "                \n",
    "        return groups, indices\n",
    "     \n",
    "    else:\n",
    "        raise ValueError(f\"Unknown group type: {group_type}. Choose from 'verse', 'half_verse', 'pesucha', or 'setuma'.\")\n",
    "    \n",
    "    # # Clean up any leading/trailing spaces in each group\n",
    "    # groups = [group.strip() for group in groups if group.strip()]\n",
    "    \n",
    "    # return groups\n",
    "\n",
    "# Example usage\n",
    "verses = [\n",
    "    \"בְּרֵאשִׁ֖ית בָּרָ֣א אֱלֹהִ֑ים אֵ֥ת הַשָּׁמַ֖יִם וְאֵ֥ת הָאָֽרֶץ׃\",\n",
    "    \"וְהָאָ֗רֶץ הָיְתָ֥ה תֹ֙הוּ֙ וָבֹ֔הוּ וְחֹ֖שֶׁךְ עַל־פְּנֵ֣י תְה֑וֹם וְר֣וּחַ אֱלֹהִ֔ים מְרַחֶ֖פֶת עַל־פְּנֵ֥י הַמָּֽיִם׃פ\",\n",
    "    \"וְ ׃ס\",\n",
    "    \"וְ׃פ\",\n",
    "    \"וְהָאָ֗רֶץ הָיְתָ֥ה תֹ֙הוּ֙ וָבֹ֔הוּ וְחֹ֖שֶׁךְ עַל־פְּנֵ֣י תְה֑וֹם וְר֣וּחַ אֱלֹהִ֔ים מְרַחֶ֖פֶת עַל־פְּנֵ֥י הַמָּֽיִם׃ס\"\n",
    "]\n",
    "locs = [Location(x) for x in ['Gen.1.1', 'Gen.1.2', 'Gen.1.3', 'Exo.1.2', 'Exo.1.3']]\n",
    "data = (locs, verses)\n",
    "\n",
    "# Group by half-verse\n",
    "# half_verses = group_verses(data, group_type='half')\n",
    "# print(\"Half Verses:\", half_verses)\n",
    "\n",
    "# Group by pesucha\n",
    "pesucha_groups = group_verses(data, group_type='pesucha')\n",
    "print(\"Pesucha Groups:\", pesucha_groups)\n",
    "\n",
    "# # Group by setuma\n",
    "# setuma_groups = group_verses(data, group_type='setuma')\n",
    "# print(\"Setuma Groups:\", setuma_groups)\n"
   ]
  },
  {
   "cell_type": "code",
   "execution_count": null,
   "metadata": {},
   "outputs": [],
   "source": [
    "import numpy as np\n",
    "\n",
    "def get_chiasm_score(cos_sim, i, n):\n",
    "\n",
    "    # the basic chiasm score is the sum of the reversed diagonal elements of the cosine similarity matrix\n",
    "    # then we add a penalty for high similarity scores between different levels. \n",
    "    chiasm = cos_sim[i:i+n, i:i+n]\n",
    "    \n",
    "    # now reverse the diagonal\n",
    "    chiasm = np.fliplr(chiasm)\n",
    "    print(np.diagonal(chiasm)[:n//2])\n",
    "    print()\n",
    "    score = chiasm.trace()\n",
    "    print(score)\n",
    "    # if it's odd, subtract the middle value -- it's a self-similarity score, always 1\n",
    "    if n % 2 == 1:\n",
    "        score -= chiasm[n//2, n//2]\n",
    "    # should normalize the score to the number of lines in the chiasm. \n",
    "    # if the chiasm is even, we divide by n, if it is odd, we divide by n-1, this is to avoid penalizing odd chiasmi\n",
    "    # this is the average of lines that should be similar\n",
    "    # if n%2 == 0:\n",
    "    #     div = n\n",
    "    # else:\n",
    "    #     div = n-1\n",
    "    \n",
    "    # neg_score = np.sum(chiasm[0, 1:-1]) + np.sum(chiasm[-1, 1:-1])\n",
    "    # # need to normalize this to n\n",
    "    # score = score/div - neg_score/div\n",
    "    return score"
   ]
  },
  {
   "cell_type": "code",
   "execution_count": 628,
   "metadata": {},
   "outputs": [],
   "source": [
    "import numpy as np\n",
    "\n",
    "def get_chiasm_score(cos_sim, i, n, ):\n",
    "\n",
    "    # the basic chiasm score is the sum of the reversed diagonal elements of the cosine similarity matrix\n",
    "    chiasm = cos_sim[i:i+n, i:i+n]\n",
    "    # now reverse the diagonal\n",
    "    chiasm = np.fliplr(chiasm)\n",
    "    els = np.diagonal(chiasm)[:n//2]\n",
    "    #print(np.mean(els))\n",
    "    #print(np.std(els))\n",
    "    thres = 0.3\n",
    "    score = sum([el > thres for el in els])/len(els)\n",
    "    return score\n",
    "    #return np.mean(els)"
   ]
  },
  {
   "cell_type": "markdown",
   "metadata": {},
   "source": [
    "So, in this method, we get the similarity scores for matched pairs in the suspected chiasm and return the mean. We then use a statistical outlier test to find those suspected chiasms for whom their similarity score is above average.\n"
   ]
  },
  {
   "cell_type": "code",
   "execution_count": 600,
   "metadata": {},
   "outputs": [
    {
     "name": "stdout",
     "output_type": "stream",
     "text": [
      "Outliers based on means: [   4    5    6    8   13   14   15   22   25   37   38  650  902  997\n",
      " 1061]\n",
      "Outliers based on stds: [   2    4    9   85  109  112  115  118  121  124  130  183  219  230\n",
      "  291  336  355  389  390  454  588 1047 1050 1056 1068 1077 1079 1121\n",
      " 1122 1161 1164 1221 1236 1261 1332 1360 1427]\n"
     ]
    }
   ],
   "source": [
    "import numpy as np\n",
    "\n",
    "# # Sample data: list of tuples (mean, std)\n",
    "# distributions = os\n",
    "\n",
    "# # Split into means and standard deviations\n",
    "# means = np.array([d[0] for d in distributions])\n",
    "# stds = np.array([d[1] for d in distributions])\n",
    "means = os\n",
    "\n",
    "# Z-score calculation for means and stds\n",
    "z_scores_means = (means - np.mean(means)) / np.std(means)\n",
    "z_scores_stds = (stds - np.mean(stds)) / np.std(stds)\n",
    "\n",
    "# Define outlier threshold\n",
    "threshold = 3  # 3 standard deviations from the mean is a typical cutoff\n",
    "\n",
    "# Find outliers in means and stds\n",
    "mean_outliers = np.where(z_scores_means > threshold)[0]\n",
    "std_outliers = np.where(z_scores_stds > threshold)[0]\n",
    "\n",
    "print(\"Outliers based on means:\", mean_outliers)\n",
    "print(\"Outliers based on stds:\", std_outliers)\n"
   ]
  },
  {
   "cell_type": "code",
   "execution_count": 614,
   "metadata": {},
   "outputs": [
    {
     "data": {
      "text/plain": [
       "(['Job.42.9', 'Job.42.10', 'Job.42.11', 'Job.42.12'],\n",
       " ['and/ they went Eliphaz the/ Temanite and/ Bildad the/ Shuhite Zophar the/ Naamathite and/ they did just/ as he had spoken',\n",
       "  'and/ Yahweh he turned back <obj.> [the] captivity of Job when/ prayed/ he for friends/ his and/ he increased Yahweh',\n",
       "  'and/ they came to/ him all brothers/ his and/ all sisters/ his and/ all [those who] knew/ him <to>/ before and/ they ate',\n",
       "  'and/ Yahweh he blessed <obj.> [the] latter part of Job more than/ beginning/ his and/ it belonged to/ him four- teen'])"
      ]
     },
     "execution_count": 614,
     "metadata": {},
     "output_type": "execute_result"
    }
   ],
   "source": [
    "x = 1061\n",
    "\n",
    "df['heb_ref'].tolist()[x:x+N], df['translation'].tolist()[x:x+N]"
   ]
  },
  {
   "cell_type": "code",
   "execution_count": null,
   "metadata": {},
   "outputs": [],
   "source": [
    "# let's figure out the output format.\n",
    "# csv, one column\n",
    "# Hebrew                    | English\n",
    "# (Gen.1.1) \"wefjwea\"\n",
    "# (Gen.1.1) \"\"\n",
    "out_df = {}\n",
    "for out in mean_outliers:\n",
    "    "
   ]
  },
  {
   "cell_type": "code",
   "execution_count": 395,
   "metadata": {},
   "outputs": [
    {
     "data": {
      "text/plain": [
       "(0.30847650534451476, 0.17688616635256096)"
      ]
     },
     "execution_count": 395,
     "metadata": {},
     "output_type": "execute_result"
    }
   ],
   "source": [
    "# so, between verses 1-4, (1,4) have .15 sim and (2,3) have 0.07 sim.\n",
    "# maybe we've been a bit too crude, we want to ensure a maximum variance of \n",
    "# let's test an actual clear chiasm to see what's up\n",
    "# btw verses 4-8, (1,4) have 0.5 sim and (2,3) have 0.16 sim\n",
    "\n",
    "get_chiasm_score(cos_sim, i=4, n=4)"
   ]
  },
  {
   "cell_type": "code",
   "execution_count": null,
   "metadata": {},
   "outputs": [],
   "source": [
    "# what if we approach it a slightly different way and try binary classification? require each individual member of the diagonal to be greater than 0.3 similarity\n",
    "# I think this is still pretty crude, but I think we need to address that often the method as it stands is picking up a highly parallel couplet surrounded by not very related verses.\n",
    "# we would only want sets that are 100% above that threshold, or at least >50%\n",
    "# how do we work statistical significance in? It's no longer normally distributed if we do it this way. Maybe bootstrapping \n",
    "# and now we need to find an empirical way to test the thresholding, hmmm\n",
    "# I just don't think this is working. There are some lines with 0 similarity between them being put forward.\n",
    "# I like the threshold method, it's straightforward. We can get a threshold from a null distribution, maybe that makes it better?\n",
    "# but we need something explainable and simple that works.\n",
    "\n",
    "# maybe to make it a bit more flex, we set a threshold for the mean and std of the scores\n",
    "# we can calculate outliers in the means of the \n",
    "\n",
    "\n",
    "# could we flip this around and do a \"nucleus\" method: \n",
    "# given a starting verse or pair of verses, build them if the next pair of verses' similarity is above a threshold. \n"
   ]
  }
 ],
 "metadata": {
  "kernelspec": {
   "display_name": "babylm",
   "language": "python",
   "name": "python3"
  },
  "language_info": {
   "codemirror_mode": {
    "name": "ipython",
    "version": 3
   },
   "file_extension": ".py",
   "mimetype": "text/x-python",
   "name": "python",
   "nbconvert_exporter": "python",
   "pygments_lexer": "ipython3",
   "version": "3.9.16"
  }
 },
 "nbformat": 4,
 "nbformat_minor": 2
}
